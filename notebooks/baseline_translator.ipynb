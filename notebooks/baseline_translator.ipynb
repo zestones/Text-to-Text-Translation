{
 "cells": [
  {
   "cell_type": "markdown",
   "metadata": {},
   "source": [
    "# Baseline Text to Text Translation : English to French\n",
    "\n",
    "This notebook trains a sequence to sequence (seq2seq) model for English to French translation. This model will be our **baseline** model, which we will then improve upon by adding attention and other features.\n",
    "\n",
    "---"
   ]
  },
  {
   "cell_type": "code",
   "execution_count": 1,
   "metadata": {},
   "outputs": [
    {
     "name": "stderr",
     "output_type": "stream",
     "text": [
      "C:\\Users\\Administrateur\\AppData\\Local\\Packages\\PythonSoftwareFoundation.Python.3.10_qbz5n2kfra8p0\\LocalCache\\local-packages\\Python310\\site-packages\\tqdm\\auto.py:22: TqdmWarning: IProgress not found. Please update jupyter and ipywidgets. See https://ipywidgets.readthedocs.io/en/stable/user_install.html\n",
      "  from .autonotebook import tqdm as notebook_tqdm\n"
     ]
    }
   ],
   "source": [
    "from datasets import load_dataset\n",
    "import pandas as pd\n",
    "import numpy as np\n",
    "\n",
    "from sklearn.model_selection import train_test_split\n",
    "\n",
    "from tokenizers import ByteLevelBPETokenizer\n",
    "\n",
    "from tensorflow.keras.layers import Embedding, LSTM, RepeatVector, TimeDistributed, Dense\n",
    "from tensorflow.keras.preprocessing.sequence import pad_sequences\n",
    "\n",
    "from tensorflow.keras.callbacks import ModelCheckpoint\n",
    "from tensorflow.keras.models import Sequential\n",
    "from tensorflow.keras.optimizers import Adam"
   ]
  },
  {
   "cell_type": "code",
   "execution_count": 2,
   "metadata": {},
   "outputs": [
    {
     "data": {
      "text/html": [
       "<div>\n",
       "<style scoped>\n",
       "    .dataframe tbody tr th:only-of-type {\n",
       "        vertical-align: middle;\n",
       "    }\n",
       "\n",
       "    .dataframe tbody tr th {\n",
       "        vertical-align: top;\n",
       "    }\n",
       "\n",
       "    .dataframe thead th {\n",
       "        text-align: right;\n",
       "    }\n",
       "</style>\n",
       "<table border=\"1\" class=\"dataframe\">\n",
       "  <thead>\n",
       "    <tr style=\"text-align: right;\">\n",
       "      <th></th>\n",
       "      <th>en</th>\n",
       "      <th>fr</th>\n",
       "    </tr>\n",
       "  </thead>\n",
       "  <tbody>\n",
       "    <tr>\n",
       "      <th>0</th>\n",
       "      <td>Jamaica: “I am HIV”</td>\n",
       "      <td>Jamaïque : J’ai le VIH</td>\n",
       "    </tr>\n",
       "    <tr>\n",
       "      <th>1</th>\n",
       "      <td>It's widely acknowledged, in the Caribbean and...</td>\n",
       "      <td>Il est largement reconnu, dans les Caraïbes et...</td>\n",
       "    </tr>\n",
       "    <tr>\n",
       "      <th>2</th>\n",
       "      <td>For this woman, however, photographed in the s...</td>\n",
       "      <td>Pour cette femme, cependant, photographiée dan...</td>\n",
       "    </tr>\n",
       "    <tr>\n",
       "      <th>3</th>\n",
       "      <td>As Bacon writes on her blog:</td>\n",
       "      <td>Comme Bacon écrit sur son blog:</td>\n",
       "    </tr>\n",
       "    <tr>\n",
       "      <th>4</th>\n",
       "      <td>“When I asked to take her picture, I suggested...</td>\n",
       "      <td>“Quand je lui ai demandé de la prendre en phot...</td>\n",
       "    </tr>\n",
       "  </tbody>\n",
       "</table>\n",
       "</div>"
      ],
      "text/plain": [
       "                                                  en  \\\n",
       "0                                Jamaica: “I am HIV”   \n",
       "1  It's widely acknowledged, in the Caribbean and...   \n",
       "2  For this woman, however, photographed in the s...   \n",
       "3                       As Bacon writes on her blog:   \n",
       "4  “When I asked to take her picture, I suggested...   \n",
       "\n",
       "                                                  fr  \n",
       "0                             Jamaïque : J’ai le VIH  \n",
       "1  Il est largement reconnu, dans les Caraïbes et...  \n",
       "2  Pour cette femme, cependant, photographiée dan...  \n",
       "3                    Comme Bacon écrit sur son blog:  \n",
       "4  “Quand je lui ai demandé de la prendre en phot...  "
      ]
     },
     "execution_count": 2,
     "metadata": {},
     "output_type": "execute_result"
    }
   ],
   "source": [
    "dataset = load_dataset(\"Nicolas-BZRD/Parallel_Global_Voices_English_French\", split='train').to_pandas()\n",
    "dataset.head()"
   ]
  },
  {
   "cell_type": "markdown",
   "metadata": {},
   "source": [
    "## Pre-Processing the Text Data"
   ]
  },
  {
   "cell_type": "code",
   "execution_count": 3,
   "metadata": {},
   "outputs": [],
   "source": [
    "# TODO : The preprocessing should be done inside the utils/preprocess.py file so that we can implement different preprocessing methods for our experiments"
   ]
  },
  {
   "cell_type": "code",
   "execution_count": 4,
   "metadata": {},
   "outputs": [],
   "source": [
    "def create_tokenizer(lines):\n",
    "    tokenizer = ByteLevelBPETokenizer()\n",
    "    tokenizer.train_from_iterator(lines)\n",
    "    return tokenizer"
   ]
  },
  {
   "cell_type": "code",
   "execution_count": 5,
   "metadata": {},
   "outputs": [],
   "source": [
    "def max_sequences_length(sequences):\n",
    "    return max([len(seq) for seq in sequences])"
   ]
  },
  {
   "cell_type": "code",
   "execution_count": 6,
   "metadata": {},
   "outputs": [],
   "source": [
    "def padding_sequences(sequences, max_len):\n",
    "    sequences_ids = [seq.ids for seq in sequences]\n",
    "    padded_sequences = pad_sequences(sequences_ids, maxlen=max_len, padding='post')\n",
    "    return padded_sequences"
   ]
  },
  {
   "cell_type": "code",
   "execution_count": 7,
   "metadata": {},
   "outputs": [],
   "source": [
    "def encode_sequences(tokenizer, lines):\n",
    "    encoded_sequences = tokenizer.encode_batch(lines)\n",
    "    max_length = max([len(seq.ids) for seq in encoded_sequences])\n",
    "    padded_sequences = padding_sequences(encoded_sequences, max_length)\n",
    "    return padded_sequences"
   ]
  },
  {
   "cell_type": "code",
   "execution_count": 8,
   "metadata": {},
   "outputs": [],
   "source": [
    "def decode_sequences(tokenizer, sequences):\n",
    "    decoded_sequences = []\n",
    "    for seq in sequences:\n",
    "        # Remove padding zeros\n",
    "        seq = seq[:np.argmax(seq == 0)]\n",
    "        decoded_seq = tokenizer.decode(seq)\n",
    "        decoded_sequences.append(decoded_seq)\n",
    "    return decoded_sequences"
   ]
  },
  {
   "cell_type": "code",
   "execution_count": 9,
   "metadata": {},
   "outputs": [],
   "source": [
    "train_data, test_data = train_test_split(dataset, test_size=0.2, random_state=42)"
   ]
  },
  {
   "cell_type": "code",
   "execution_count": 10,
   "metadata": {},
   "outputs": [],
   "source": [
    "tokenizer_en = create_tokenizer(train_data['en'])\n",
    "tokenizer_fr = create_tokenizer(train_data['fr'])"
   ]
  },
  {
   "cell_type": "code",
   "execution_count": 11,
   "metadata": {},
   "outputs": [],
   "source": [
    "# prepare training data\n",
    "trainX = encode_sequences(tokenizer_en, train_data['fr'])\n",
    "trainY = encode_sequences(tokenizer_fr, train_data['en'])\n",
    "\n",
    "# prepare validation data\n",
    "testX = encode_sequences(tokenizer_en, test_data['fr'])\n",
    "testY = encode_sequences(tokenizer_fr, test_data['en'])"
   ]
  },
  {
   "cell_type": "code",
   "execution_count": 12,
   "metadata": {},
   "outputs": [
    {
     "name": "stdout",
     "output_type": "stream",
     "text": [
      "['Et comment les deux forces concurrentes comparent-elles leur présence dans les médias sociaux ?']\n",
      "['And how do the two competing forces compare in their social media presence?']\n"
     ]
    }
   ],
   "source": [
    "print(decode_sequences(tokenizer_en, trainX[:1]))\n",
    "print(decode_sequences(tokenizer_fr, trainY[:1]))"
   ]
  },
  {
   "cell_type": "code",
   "execution_count": 13,
   "metadata": {},
   "outputs": [],
   "source": [
    "def define_model(src_vocab, tar_vocab, src_timesteps, tar_timesteps, n_units):\n",
    "    model = Sequential()\n",
    "    \n",
    "    model.add(Embedding(src_vocab, n_units, input_length=src_timesteps, mask_zero=True))\n",
    "    model.add(LSTM(n_units))\n",
    "   \n",
    "    model.add(RepeatVector(tar_timesteps))\n",
    "   \n",
    "    model.add(LSTM(n_units, return_sequences=True))\n",
    "    model.add(TimeDistributed(Dense(tar_vocab, activation='softmax')))\n",
    "    \n",
    "    return model"
   ]
  },
  {
   "cell_type": "code",
   "execution_count": 14,
   "metadata": {},
   "outputs": [
    {
     "name": "stdout",
     "output_type": "stream",
     "text": [
      "max length of english sequences:  740\n",
      "max length of french sequences:  593\n"
     ]
    }
   ],
   "source": [
    "print(\"max length of english sequences: \", max_sequences_length(trainX))\n",
    "print(\"max length of french sequences: \", max_sequences_length(trainY))"
   ]
  },
  {
   "cell_type": "code",
   "execution_count": 15,
   "metadata": {},
   "outputs": [],
   "source": [
    "fr_vocab_size = len(tokenizer_fr.get_vocab())  \n",
    "eng_vocab_size = len(tokenizer_en.get_vocab())  \n",
    "\n",
    "fr_length = max_sequences_length(trainX)\n",
    "eng_length = max_sequences_length(trainY)\n",
    "\n",
    "n_units = 12"
   ]
  },
  {
   "cell_type": "code",
   "execution_count": 16,
   "metadata": {},
   "outputs": [
    {
     "name": "stdout",
     "output_type": "stream",
     "text": [
      "Model: \"sequential\"\n",
      "_________________________________________________________________\n",
      " Layer (type)                Output Shape              Param #   \n",
      "=================================================================\n",
      " embedding (Embedding)       (None, 740, 12)           360000    \n",
      "                                                                 \n",
      " lstm (LSTM)                 (None, 12)                1200      \n",
      "                                                                 \n",
      " repeat_vector (RepeatVector  (None, 593, 12)          0         \n",
      " )                                                               \n",
      "                                                                 \n",
      " lstm_1 (LSTM)               (None, 593, 12)           1200      \n",
      "                                                                 \n",
      " time_distributed (TimeDistr  (None, 593, 30000)       390000    \n",
      " ibuted)                                                         \n",
      "                                                                 \n",
      "=================================================================\n",
      "Total params: 752,400\n",
      "Trainable params: 752,400\n",
      "Non-trainable params: 0\n",
      "_________________________________________________________________\n"
     ]
    }
   ],
   "source": [
    "model = define_model(fr_vocab_size, eng_vocab_size, fr_length, eng_length, n_units)\n",
    "optimizer = Adam()  \n",
    "\n",
    "model.compile(optimizer=optimizer, loss='sparse_categorical_crossentropy')\n",
    "model.summary()"
   ]
  },
  {
   "cell_type": "code",
   "execution_count": 17,
   "metadata": {},
   "outputs": [],
   "source": [
    "epochs = 30\n",
    "batch_size = 64"
   ]
  },
  {
   "cell_type": "code",
   "execution_count": 18,
   "metadata": {},
   "outputs": [
    {
     "name": "stdout",
     "output_type": "stream",
     "text": [
      "Epoch 1/30\n"
     ]
    }
   ],
   "source": [
    "checkpoint = ModelCheckpoint('model.h5', monitor='val_loss', verbose=1, save_best_only=True, mode='min')\n",
    "model.fit(trainX, trainY, epochs=epochs, batch_size=batch_size, validation_data=(testX, testY), callbacks=[checkpoint], verbose=2)"
   ]
  }
 ],
 "metadata": {
  "kernelspec": {
   "display_name": "Python 3",
   "language": "python",
   "name": "python3"
  },
  "language_info": {
   "codemirror_mode": {
    "name": "ipython",
    "version": 3
   },
   "file_extension": ".py",
   "mimetype": "text/x-python",
   "name": "python",
   "nbconvert_exporter": "python",
   "pygments_lexer": "ipython3",
   "version": "3.10.11"
  },
  "orig_nbformat": 4
 },
 "nbformat": 4,
 "nbformat_minor": 2
}
