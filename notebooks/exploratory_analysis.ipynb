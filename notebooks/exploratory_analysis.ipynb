{
 "cells": [
  {
   "cell_type": "markdown",
   "metadata": {},
   "source": [
    "# Exploratory Analysis of Parallel Global Voices English-French Dataset\n",
    "\n",
    "This notebook explores the characteristics and structure of the Parallel Global Voices English-French dataset sourced from Global Voices websites.\n",
    "\n",
    "## Import Libraries\n",
    "\n",
    "Let's start by importing the necessary libraries."
   ]
  },
  {
   "cell_type": "code",
   "execution_count": 17,
   "metadata": {},
   "outputs": [],
   "source": [
    "from datasets import load_dataset\n",
    "\n",
    "import pandas as pd\n",
    "import matplotlib.pyplot as plt\n",
    "import seaborn as sns\n",
    "\n",
    "import string\n",
    "import re\n",
    "from collections import Counter"
   ]
  },
  {
   "cell_type": "markdown",
   "metadata": {},
   "source": [
    "## Data Overview\n",
    "\n",
    "Load the Parallel Global Voices English-French dataset using the `load_dataset` function from the `datasets` library and convert it to a Pandas DataFrame."
   ]
  },
  {
   "cell_type": "code",
   "execution_count": 18,
   "metadata": {},
   "outputs": [
    {
     "data": {
      "text/html": [
       "<div>\n",
       "<style scoped>\n",
       "    .dataframe tbody tr th:only-of-type {\n",
       "        vertical-align: middle;\n",
       "    }\n",
       "\n",
       "    .dataframe tbody tr th {\n",
       "        vertical-align: top;\n",
       "    }\n",
       "\n",
       "    .dataframe thead th {\n",
       "        text-align: right;\n",
       "    }\n",
       "</style>\n",
       "<table border=\"1\" class=\"dataframe\">\n",
       "  <thead>\n",
       "    <tr style=\"text-align: right;\">\n",
       "      <th></th>\n",
       "      <th>en</th>\n",
       "      <th>fr</th>\n",
       "    </tr>\n",
       "  </thead>\n",
       "  <tbody>\n",
       "    <tr>\n",
       "      <th>0</th>\n",
       "      <td>Jamaica: “I am HIV”</td>\n",
       "      <td>Jamaïque : J’ai le VIH</td>\n",
       "    </tr>\n",
       "    <tr>\n",
       "      <th>1</th>\n",
       "      <td>It's widely acknowledged, in the Caribbean and...</td>\n",
       "      <td>Il est largement reconnu, dans les Caraïbes et...</td>\n",
       "    </tr>\n",
       "    <tr>\n",
       "      <th>2</th>\n",
       "      <td>For this woman, however, photographed in the s...</td>\n",
       "      <td>Pour cette femme, cependant, photographiée dan...</td>\n",
       "    </tr>\n",
       "    <tr>\n",
       "      <th>3</th>\n",
       "      <td>As Bacon writes on her blog:</td>\n",
       "      <td>Comme Bacon écrit sur son blog:</td>\n",
       "    </tr>\n",
       "    <tr>\n",
       "      <th>4</th>\n",
       "      <td>“When I asked to take her picture, I suggested...</td>\n",
       "      <td>“Quand je lui ai demandé de la prendre en phot...</td>\n",
       "    </tr>\n",
       "  </tbody>\n",
       "</table>\n",
       "</div>"
      ],
      "text/plain": [
       "                                                  en  \\\n",
       "0                                Jamaica: “I am HIV”   \n",
       "1  It's widely acknowledged, in the Caribbean and...   \n",
       "2  For this woman, however, photographed in the s...   \n",
       "3                       As Bacon writes on her blog:   \n",
       "4  “When I asked to take her picture, I suggested...   \n",
       "\n",
       "                                                  fr  \n",
       "0                             Jamaïque : J’ai le VIH  \n",
       "1  Il est largement reconnu, dans les Caraïbes et...  \n",
       "2  Pour cette femme, cependant, photographiée dan...  \n",
       "3                    Comme Bacon écrit sur son blog:  \n",
       "4  “Quand je lui ai demandé de la prendre en phot...  "
      ]
     },
     "execution_count": 18,
     "metadata": {},
     "output_type": "execute_result"
    }
   ],
   "source": [
    "segmentation_dataset = load_dataset(\"Nicolas-BZRD/Parallel_Global_Voices_English_French\", split='train').to_pandas()\n",
    "segmentation_dataset.head()"
   ]
  },
  {
   "cell_type": "markdown",
   "metadata": {},
   "source": [
    "## Data Summary and Basic Statistics\n",
    "\n",
    "### Statistical Summary\n",
    "\n",
    "Let's start by examining basic statistics of the dataset to understand characteristics like text length, word count, etc."
   ]
  },
  {
   "cell_type": "code",
   "execution_count": 19,
   "metadata": {},
   "outputs": [
    {
     "name": "stdout",
     "output_type": "stream",
     "text": [
      "Statistical Summary for English Text:\n"
     ]
    },
    {
     "data": {
      "text/plain": [
       "count                    342060\n",
       "unique                   340653\n",
       "top       Used with permission.\n",
       "freq                         31\n",
       "Name: en, dtype: object"
      ]
     },
     "execution_count": 19,
     "metadata": {},
     "output_type": "execute_result"
    }
   ],
   "source": [
    "# Display statistical summary for English text\n",
    "english_text_summary = segmentation_dataset['en'].describe()\n",
    "print(\"Statistical Summary for English Text:\")\n",
    "english_text_summary"
   ]
  },
  {
   "cell_type": "code",
   "execution_count": 20,
   "metadata": {},
   "outputs": [
    {
     "name": "stdout",
     "output_type": "stream",
     "text": [
      "\n",
      "Statistical Summary for French Text:\n"
     ]
    },
    {
     "data": {
      "text/plain": [
       "count                                                342060\n",
       "unique                                               341607\n",
       "top       Ce billet fait partie du dossier de Global Voi...\n",
       "freq                                                      8\n",
       "Name: fr, dtype: object"
      ]
     },
     "execution_count": 20,
     "metadata": {},
     "output_type": "execute_result"
    }
   ],
   "source": [
    "# Display statistical summary for French text\n",
    "french_text_summary = segmentation_dataset['fr'].describe()\n",
    "print(\"\\nStatistical Summary for French Text:\")\n",
    "french_text_summary"
   ]
  },
  {
   "cell_type": "markdown",
   "metadata": {},
   "source": [
    "### Checking for Missing Values\n",
    "\n",
    "Let's check for missing values in the dataset to ensure data completeness."
   ]
  },
  {
   "cell_type": "code",
   "execution_count": 21,
   "metadata": {},
   "outputs": [
    {
     "name": "stdout",
     "output_type": "stream",
     "text": [
      "\n",
      "Missing Values in English Text: 0\n",
      "Missing Values in French Text: 0\n"
     ]
    }
   ],
   "source": [
    "# Check for missing values in English text\n",
    "missing_values_english = segmentation_dataset['en'].isnull().sum()\n",
    "print(f\"\\nMissing Values in English Text: {missing_values_english}\")\n",
    "\n",
    "# Check for missing values in French text\n",
    "missing_values_french = segmentation_dataset['fr'].isnull().sum()\n",
    "print(f\"Missing Values in French Text: {missing_values_french}\")"
   ]
  },
  {
   "cell_type": "markdown",
   "metadata": {},
   "source": [
    "## Visualizing Text Length Distributions\n",
    "\n",
    "### Histograms of Text Lengths\n",
    "\n",
    "Visualize the distributions of text lengths in both English and French text using histograms."
   ]
  },
  {
   "cell_type": "code",
   "execution_count": 22,
   "metadata": {},
   "outputs": [
    {
     "data": {
      "image/png": "[encoded data removed]",
      "text/plain": [
       "<Figure size 1000x600 with 2 Axes>"
      ]
     },
     "metadata": {},
     "output_type": "display_data"
    }
   ],
   "source": [
    "# Calculate text lengths for English and French text\n",
    "segmentation_dataset['en_length'] = segmentation_dataset['en'].apply(lambda x: len(x.split()))\n",
    "segmentation_dataset['fr_length'] = segmentation_dataset['fr'].apply(lambda x: len(x.split()))\n",
    "\n",
    "# Plot histograms for text lengths\n",
    "plt.figure(figsize=(10, 6))\n",
    "\n",
    "plt.subplot(1, 2, 1)\n",
    "sns.histplot(segmentation_dataset['en_length'], bins=30, kde=True, color='skyblue')\n",
    "plt.title('Distribution of English Text Length')\n",
    "plt.xlabel('Text Length')\n",
    "plt.ylabel('Frequency')\n",
    "\n",
    "# Add vertical line for average English text length\n",
    "avg_en_length = segmentation_dataset['en_length'].mean()\n",
    "plt.axvline(avg_en_length, color='red', linestyle='--', label=f'Average Length: {avg_en_length:.2f}')\n",
    "plt.legend()\n",
    "\n",
    "plt.subplot(1, 2, 2)\n",
    "sns.histplot(segmentation_dataset['fr_length'], bins=30, kde=True, color='salmon')\n",
    "plt.title('Distribution of French Text Length')\n",
    "plt.xlabel('Text Length')\n",
    "plt.ylabel('Frequency')\n",
    "\n",
    "# Add vertical line for average French text length\n",
    "avg_fr_length = segmentation_dataset['fr_length'].mean()\n",
    "plt.axvline(avg_fr_length, color='red', linestyle='--', label=f'Average Length: {avg_fr_length:.2f}')\n",
    "plt.legend()\n",
    "\n",
    "plt.tight_layout()\n",
    "plt.show()"
   ]
  },
  {
   "cell_type": "markdown",
   "metadata": {},
   "source": [
    "### Vocabulary\n",
    "The complexity of the problem is determined by the complexity of the vocabulary. A more complex vocabulary is a more complex problem. Let's look at the complexity of the dataset we'll be working with."
   ]
  },
  {
   "cell_type": "code",
   "execution_count": 23,
   "metadata": {},
   "outputs": [
    {
     "name": "stdout",
     "output_type": "stream",
     "text": [
      "6629290 English words.\n",
      "10 unique English words.\n",
      "10 Most common words in the English dataset:\n",
      "\"the\" \"of\" \"to\" \"and\" \"in\" \"a\" \"is\" \"that\" \"for\" \"on\"\n",
      "\n",
      "7369968 French words.\n",
      "10 unique French words.\n",
      "10 Most common words in the French dataset:\n",
      "\"de\" \"la\" \"et\" \"les\" \"le\" \"des\" \"à\" \"en\" \"que\" \"du\"\n"
     ]
    }
   ],
   "source": [
    "# English word frequencies\n",
    "english_words_counter = Counter([word for sentence in segmentation_dataset['en'] for word in sentence.split()])\n",
    "english_words, english_counts = zip(*english_words_counter.most_common(10))\n",
    "\n",
    "# French word frequencies\n",
    "french_words_counter = Counter([word for sentence in segmentation_dataset['fr'] for word in sentence.split()])\n",
    "french_words, french_counts = zip(*french_words_counter.most_common(10))\n",
    "\n",
    "print('{} English words.'.format(len([word for sentence in segmentation_dataset['en'] for word in sentence.split()])))\n",
    "print('{} unique English words.'.format(len(english_words)))\n",
    "print('10 Most common words in the English dataset:')\n",
    "print('\"' + '\" \"'.join(english_words) + '\"')\n",
    "print()\n",
    "print('{} French words.'.format(len([word for sentence in segmentation_dataset['fr'] for word in sentence.split()])))\n",
    "print('{} unique French words.'.format(len(french_words)))\n",
    "print('10 Most common words in the French dataset:')\n",
    "print('\"' + '\" \"'.join(french_words) + '\"')"
   ]
  },
  {
   "cell_type": "code",
   "execution_count": 24,
   "metadata": {},
   "outputs": [
    {
     "data": {
      "image/png": "[encoded data removed]",
      "text/plain": [
       "<Figure size 1200x600 with 2 Axes>"
      ]
     },
     "metadata": {},
     "output_type": "display_data"
    }
   ],
   "source": [
    "# Plotting English and French word frequencies on the same plot using subplots\n",
    "fig, axs = plt.subplots(1, 2, figsize=(12, 6))\n",
    "\n",
    "# Plot English word frequencies\n",
    "axs[0].bar(english_words, english_counts, color='blue')\n",
    "axs[0].set_title('Top 10 Most Common English Words')\n",
    "axs[0].set_xlabel('Words')\n",
    "axs[0].set_ylabel('Frequency')\n",
    "\n",
    "# Plot French word frequencies\n",
    "axs[1].bar(french_words, french_counts, color='orange')\n",
    "axs[1].set_title('Top 10 Most Common French Words')\n",
    "axs[1].set_xlabel('Words')\n",
    "axs[1].set_ylabel('Frequency')\n",
    "\n",
    "plt.tight_layout()\n",
    "plt.show()"
   ]
  },
  {
   "cell_type": "markdown",
   "metadata": {},
   "source": [
    "## Analysis for Special Characters, URLs, Tags, Numbers, etc.\n",
    "\n",
    "### Special Characters"
   ]
  },
  {
   "cell_type": "code",
   "execution_count": 25,
   "metadata": {},
   "outputs": [
    {
     "name": "stdout",
     "output_type": "stream",
     "text": [
      "English Text with Special Characters: 342060 samples\n",
      "------\n",
      "French Text with Special Characters: 342060 samples\n"
     ]
    }
   ],
   "source": [
    "# Check for special characters in English text\n",
    "special_chars_english = segmentation_dataset['en'].apply(\n",
    "    lambda x: any(char.isdigit() or not char.isalnum() for char in x))\n",
    "print(f\"English Text with Special Characters: {special_chars_english.sum()} samples\")\n",
    "\n",
    "print(\"------\")\n",
    "\n",
    "# Check for special characters in French text\n",
    "special_chars_french = segmentation_dataset['fr'].apply(\n",
    "    lambda x: any(char.isdigit() or not char.isalnum() for char in x))\n",
    "\n",
    "print(f\"French Text with Special Characters: {special_chars_french.sum()} samples\")"
   ]
  },
  {
   "cell_type": "markdown",
   "metadata": {},
   "source": [
    "### URLs AND HTML Tags"
   ]
  },
  {
   "cell_type": "code",
   "execution_count": 26,
   "metadata": {},
   "outputs": [
    {
     "name": "stdout",
     "output_type": "stream",
     "text": [
      "English Text with URLs: 1000 samples\n",
      "French Text with URLs: 991 samples\n",
      "------\n",
      "English Text with HTML Tags: 16 samples\n",
      "French Text with HTML Tags: 12 samples\n"
     ]
    }
   ],
   "source": [
    "# Check for URLs in English text\n",
    "urls_english = segmentation_dataset['en'].str.contains(r'http[s]?://(?:[a-zA-Z]|[0-9]|[$-_@.&+]|[!*\\\\(\\\\),]|(?:%[0-9a-fA-F][0-9a-fA-F]))+', regex=True)\n",
    "print(f\"English Text with URLs: {urls_english.sum()} samples\")\n",
    "\n",
    "# Check for URLs in French text\n",
    "urls_french = segmentation_dataset['fr'].str.contains(r'http[s]?://(?:[a-zA-Z]|[0-9]|[$-_@.&+]|[!*\\\\(\\\\),]|(?:%[0-9a-fA-F][0-9a-fA-F]))+', regex=True)\n",
    "print(f\"French Text with URLs: {urls_french.sum()} samples\")\n",
    "\n",
    "print(\"------\")\n",
    "\n",
    "# Check for HTML tags in English text\n",
    "html_tags_english = segmentation_dataset['en'].str.contains(r'<[^>]+>', regex=True)\n",
    "print(f\"English Text with HTML Tags: {html_tags_english.sum()} samples\")\n",
    "\n",
    "# Check for HTML tags in French text\n",
    "html_tags_french = segmentation_dataset['fr'].str.contains(r'<[^>]+>', regex=True)\n",
    "print(f\"French Text with HTML Tags: {html_tags_french.sum()} samples\")"
   ]
  },
  {
   "cell_type": "code",
   "execution_count": 27,
   "metadata": {},
   "outputs": [
    {
     "data": {
      "text/plain": [
       "19862     Tax incentives to invest Africa: chance for de...\n",
       "38047     I really want a beer tonight, but if I step ou...\n",
       "43755     D.R. of Congo: Furor Over Kabila's <em>New Yor...\n",
       "63591     </blockquote> The report saves special critici...\n",
       "63596     And there seems to be very little we can do to...\n",
       "82332     <a href=\"http://cultivandoaverdade.blogspot.co...\n",
       "83508     <…> Today, you have a unique opportunity to ra...\n",
       "85866     <em>Voci Globali</em>: Global Voices and La St...\n",
       "94327     A man who will discuss it in a large group of ...\n",
       "94331     <…> For many members this community was the on...\n",
       "94336               Someone's life is better after it?  <…>\n",
       "100334    Togolese High School Students via Paul-W on Fl...\n",
       "104813    <zardari pvt limited>, we are a limited liabil...\n",
       "127483    <…> Several people advised me today to avoid w...\n",
       "138252    Scared (>_< )(>_< )(>_< ) Earthquake warning (...\n",
       "237170    The New Year's celebration is over <…>, and I ...\n",
       "Name: en, dtype: object"
      ]
     },
     "execution_count": 27,
     "metadata": {},
     "output_type": "execute_result"
    }
   ],
   "source": [
    "# display samples with HTML tags\n",
    "segmentation_dataset.loc[html_tags_english, 'en']"
   ]
  },
  {
   "cell_type": "markdown",
   "metadata": {},
   "source": [
    "### Numerical Values\n"
   ]
  },
  {
   "cell_type": "code",
   "execution_count": 28,
   "metadata": {},
   "outputs": [
    {
     "name": "stdout",
     "output_type": "stream",
     "text": [
      "English Text with Numerical Values: 48642 samples\n",
      "------\n",
      "French Text with Numerical Values: 48641 samples\n"
     ]
    }
   ],
   "source": [
    "# Check for numerical values in English text\n",
    "numeric_values_english = segmentation_dataset['en'].apply(lambda x: any(char.isdigit() for char in x))\n",
    "print(f\"English Text with Numerical Values: {numeric_values_english.sum()} samples\")\n",
    "\n",
    "print(\"------\")\n",
    "\n",
    "# Check for numerical values in French text\n",
    "numeric_values_french = segmentation_dataset['fr'].apply(lambda x: any(char.isdigit() for char in x))\n",
    "print(f\"French Text with Numerical Values: {numeric_values_french.sum()} samples\")\n"
   ]
  },
  {
   "cell_type": "markdown",
   "metadata": {},
   "source": [
    "Let's dive deeper into the analysis of the dataset to understand the characteristics of the text in the dataset. The objective now is to understand the presence of special characters, URLs, HTML tags, and numerical values in the text."
   ]
  },
  {
   "cell_type": "code",
   "execution_count": 29,
   "metadata": {},
   "outputs": [
    {
     "data": {
      "text/html": [
       "<div>\n",
       "<style scoped>\n",
       "    .dataframe tbody tr th:only-of-type {\n",
       "        vertical-align: middle;\n",
       "    }\n",
       "\n",
       "    .dataframe tbody tr th {\n",
       "        vertical-align: top;\n",
       "    }\n",
       "\n",
       "    .dataframe thead th {\n",
       "        text-align: right;\n",
       "    }\n",
       "</style>\n",
       "<table border=\"1\" class=\"dataframe\">\n",
       "  <thead>\n",
       "    <tr style=\"text-align: right;\">\n",
       "      <th></th>\n",
       "      <th>Character</th>\n",
       "      <th>English_Frequency</th>\n",
       "      <th>French_Frequency</th>\n",
       "    </tr>\n",
       "  </thead>\n",
       "  <tbody>\n",
       "    <tr>\n",
       "      <th>0</th>\n",
       "      <td>J</td>\n",
       "      <td>25080</td>\n",
       "      <td>35180</td>\n",
       "    </tr>\n",
       "    <tr>\n",
       "      <th>1</th>\n",
       "      <td>a</td>\n",
       "      <td>2655903</td>\n",
       "      <td>2776748</td>\n",
       "    </tr>\n",
       "    <tr>\n",
       "      <th>2</th>\n",
       "      <td>m</td>\n",
       "      <td>746135</td>\n",
       "      <td>956131</td>\n",
       "    </tr>\n",
       "    <tr>\n",
       "      <th>3</th>\n",
       "      <td>i</td>\n",
       "      <td>2411602</td>\n",
       "      <td>2622643</td>\n",
       "    </tr>\n",
       "    <tr>\n",
       "      <th>4</th>\n",
       "      <td>c</td>\n",
       "      <td>937166</td>\n",
       "      <td>1078660</td>\n",
       "    </tr>\n",
       "  </tbody>\n",
       "</table>\n",
       "</div>"
      ],
      "text/plain": [
       "  Character  English_Frequency  French_Frequency\n",
       "0         J              25080             35180\n",
       "1         a            2655903           2776748\n",
       "2         m             746135            956131\n",
       "3         i            2411602           2622643\n",
       "4         c             937166           1078660"
      ]
     },
     "execution_count": 29,
     "metadata": {},
     "output_type": "execute_result"
    }
   ],
   "source": [
    "def compute_char_stats(text_column):\n",
    "    char_freq = Counter(\"\".join(text_column))\n",
    "    return char_freq\n",
    "\n",
    "# Compute statistics for unique characters in English text\n",
    "english_char_stats = compute_char_stats(segmentation_dataset['en'])\n",
    "\n",
    "# Compute statistics for unique characters in French text\n",
    "french_char_stats = compute_char_stats(segmentation_dataset['fr'])\n",
    "\n",
    "# Combine English and French character statistics\n",
    "char_stats_combined = {char: {\n",
    "    'English_Frequency': english_char_stats[char], 'French_Frequency': french_char_stats[char]} for char in english_char_stats | french_char_stats}\n",
    "\n",
    "# Create DataFrame from combined character statistics\n",
    "char_stats_df = pd.DataFrame.from_dict(\n",
    "    char_stats_combined, orient='index').reset_index()\n",
    "char_stats_df.columns = ['Character', 'English_Frequency', 'French_Frequency']\n",
    "\n",
    "# Display the character statistics DataFrame\n",
    "char_stats_df.head()"
   ]
  },
  {
   "cell_type": "markdown",
   "metadata": {},
   "source": [
    "Now let's keep inside our char stats dataframe only the special characters that are present in the English and French text."
   ]
  },
  {
   "cell_type": "code",
   "execution_count": 30,
   "metadata": {},
   "outputs": [
    {
     "name": "stdout",
     "output_type": "stream",
     "text": [
      "Number of special characters:  141\n"
     ]
    },
    {
     "data": {
      "text/html": [
       "<div>\n",
       "<style scoped>\n",
       "    .dataframe tbody tr th:only-of-type {\n",
       "        vertical-align: middle;\n",
       "    }\n",
       "\n",
       "    .dataframe tbody tr th {\n",
       "        vertical-align: top;\n",
       "    }\n",
       "\n",
       "    .dataframe thead th {\n",
       "        text-align: right;\n",
       "    }\n",
       "</style>\n",
       "<table border=\"1\" class=\"dataframe\">\n",
       "  <thead>\n",
       "    <tr style=\"text-align: right;\">\n",
       "      <th></th>\n",
       "      <th>Character</th>\n",
       "      <th>English_Frequency</th>\n",
       "      <th>French_Frequency</th>\n",
       "    </tr>\n",
       "  </thead>\n",
       "  <tbody>\n",
       "    <tr>\n",
       "      <th>7</th>\n",
       "      <td>“</td>\n",
       "      <td>39608</td>\n",
       "      <td>36396</td>\n",
       "    </tr>\n",
       "    <tr>\n",
       "      <th>11</th>\n",
       "      <td>”</td>\n",
       "      <td>38709</td>\n",
       "      <td>36047</td>\n",
       "    </tr>\n",
       "    <tr>\n",
       "      <th>63</th>\n",
       "      <td>‘</td>\n",
       "      <td>7644</td>\n",
       "      <td>3897</td>\n",
       "    </tr>\n",
       "    <tr>\n",
       "      <th>69</th>\n",
       "      <td>…</td>\n",
       "      <td>13818</td>\n",
       "      <td>14095</td>\n",
       "    </tr>\n",
       "    <tr>\n",
       "      <th>76</th>\n",
       "      <td>´</td>\n",
       "      <td>128</td>\n",
       "      <td>111</td>\n",
       "    </tr>\n",
       "    <tr>\n",
       "      <th>...</th>\n",
       "      <td>...</td>\n",
       "      <td>...</td>\n",
       "      <td>...</td>\n",
       "    </tr>\n",
       "    <tr>\n",
       "      <th>2312</th>\n",
       "      <td>㎥</td>\n",
       "      <td>1</td>\n",
       "      <td>1</td>\n",
       "    </tr>\n",
       "    <tr>\n",
       "      <th>2449</th>\n",
       "      <td>．</td>\n",
       "      <td>0</td>\n",
       "      <td>1</td>\n",
       "    </tr>\n",
       "    <tr>\n",
       "      <th>2476</th>\n",
       "      <td>¥</td>\n",
       "      <td>0</td>\n",
       "      <td>1</td>\n",
       "    </tr>\n",
       "    <tr>\n",
       "      <th>2541</th>\n",
       "      <td>≠</td>\n",
       "      <td>0</td>\n",
       "      <td>1</td>\n",
       "    </tr>\n",
       "    <tr>\n",
       "      <th>2545</th>\n",
       "      <td>─</td>\n",
       "      <td>0</td>\n",
       "      <td>2</td>\n",
       "    </tr>\n",
       "  </tbody>\n",
       "</table>\n",
       "<p>141 rows × 3 columns</p>\n",
       "</div>"
      ],
      "text/plain": [
       "     Character  English_Frequency  French_Frequency\n",
       "7            “              39608             36396\n",
       "11           ”              38709             36047\n",
       "63           ‘               7644              3897\n",
       "69           …              13818             14095\n",
       "76           ´                128               111\n",
       "...        ...                ...               ...\n",
       "2312         ㎥                  1                 1\n",
       "2449         ．                  0                 1\n",
       "2476         ¥                  0                 1\n",
       "2541         ≠                  0                 1\n",
       "2545         ─                  0                 2\n",
       "\n",
       "[141 rows x 3 columns]"
      ]
     },
     "execution_count": 30,
     "metadata": {},
     "output_type": "execute_result"
    }
   ],
   "source": [
    "# keep only the special characters but without the punctuation marks or apostrophe (') or (’) and non-alphanumeric characters\n",
    "special_char_stats_df = char_stats_df[char_stats_df['Character'].apply(\n",
    "    lambda x: not x.isdigit() and x not in string.punctuation and x not in [\"'\", '’']) & char_stats_df['Character'].apply(lambda x: not x.isalnum())]\n",
    "\n",
    "# remove the space character\n",
    "special_char_stats_df = special_char_stats_df[special_char_stats_df['Character'] != ' ']\n",
    "\n",
    "print(\"Number of special characters: \", special_char_stats_df['Character'].count())\n",
    "\n",
    "special_char_stats_df"
   ]
  },
  {
   "cell_type": "markdown",
   "metadata": {},
   "source": [
    "Okay, now that we have our special characters, let's try to create a toy pre-processing function that removes them from the English and French text."
   ]
  },
  {
   "cell_type": "code",
   "execution_count": 31,
   "metadata": {},
   "outputs": [],
   "source": [
    "def remove_special_chars(text):\n",
    "    for char in special_char_stats_df['Character']:\n",
    "        text = text.replace(char, '')\n",
    "    return text"
   ]
  },
  {
   "cell_type": "code",
   "execution_count": 32,
   "metadata": {},
   "outputs": [
    {
     "data": {
      "text/html": [
       "<div>\n",
       "<style scoped>\n",
       "    .dataframe tbody tr th:only-of-type {\n",
       "        vertical-align: middle;\n",
       "    }\n",
       "\n",
       "    .dataframe tbody tr th {\n",
       "        vertical-align: top;\n",
       "    }\n",
       "\n",
       "    .dataframe thead th {\n",
       "        text-align: right;\n",
       "    }\n",
       "</style>\n",
       "<table border=\"1\" class=\"dataframe\">\n",
       "  <thead>\n",
       "    <tr style=\"text-align: right;\">\n",
       "      <th></th>\n",
       "      <th>en</th>\n",
       "      <th>fr</th>\n",
       "      <th>en_length</th>\n",
       "      <th>fr_length</th>\n",
       "    </tr>\n",
       "  </thead>\n",
       "  <tbody>\n",
       "    <tr>\n",
       "      <th>0</th>\n",
       "      <td>Jamaica: I am HIV</td>\n",
       "      <td>Jamaïque : J’ai le VIH</td>\n",
       "      <td>4</td>\n",
       "      <td>5</td>\n",
       "    </tr>\n",
       "    <tr>\n",
       "      <th>1</th>\n",
       "      <td>It's widely acknowledged, in the Caribbean and...</td>\n",
       "      <td>Il est largement reconnu, dans les Caraïbes et...</td>\n",
       "      <td>33</td>\n",
       "      <td>40</td>\n",
       "    </tr>\n",
       "    <tr>\n",
       "      <th>2</th>\n",
       "      <td>For this woman, however, photographed in the s...</td>\n",
       "      <td>Pour cette femme, cependant, photographiée dan...</td>\n",
       "      <td>24</td>\n",
       "      <td>29</td>\n",
       "    </tr>\n",
       "    <tr>\n",
       "      <th>3</th>\n",
       "      <td>As Bacon writes on her blog:</td>\n",
       "      <td>Comme Bacon écrit sur son blog:</td>\n",
       "      <td>6</td>\n",
       "      <td>6</td>\n",
       "    </tr>\n",
       "    <tr>\n",
       "      <th>4</th>\n",
       "      <td>When I asked to take her picture, I suggested ...</td>\n",
       "      <td>Quand je lui ai demandé de la prendre en photo...</td>\n",
       "      <td>15</td>\n",
       "      <td>18</td>\n",
       "    </tr>\n",
       "    <tr>\n",
       "      <th>...</th>\n",
       "      <td>...</td>\n",
       "      <td>...</td>\n",
       "      <td>...</td>\n",
       "      <td>...</td>\n",
       "    </tr>\n",
       "    <tr>\n",
       "      <th>342055</th>\n",
       "      <td>But now, it's always pain.</td>\n",
       "      <td>Maintenant, tout n'est que souffrance.</td>\n",
       "      <td>5</td>\n",
       "      <td>6</td>\n",
       "    </tr>\n",
       "    <tr>\n",
       "      <th>342056</th>\n",
       "      <td>As of todaytoday is the beginning of a new lif...</td>\n",
       "      <td>A partir d'aujourd'hui une nouvelle vie comme...</td>\n",
       "      <td>12</td>\n",
       "      <td>11</td>\n",
       "    </tr>\n",
       "    <tr>\n",
       "      <th>342057</th>\n",
       "      <td>When I contacted Bishnu eight months later, sh...</td>\n",
       "      <td>Lorsque j'ai contacté Bishnu huit mois plus ta...</td>\n",
       "      <td>17</td>\n",
       "      <td>18</td>\n",
       "    </tr>\n",
       "    <tr>\n",
       "      <th>342058</th>\n",
       "      <td>She's planning for her future, just as she was...</td>\n",
       "      <td>Elle fait des plans pour l'avenir, tout comme ...</td>\n",
       "      <td>19</td>\n",
       "      <td>22</td>\n",
       "    </tr>\n",
       "    <tr>\n",
       "      <th>342059</th>\n",
       "      <td>But now she's not wearing bangles.</td>\n",
       "      <td>Seulement, aujourd'hui, elle ne porte pas de b...</td>\n",
       "      <td>6</td>\n",
       "      <td>8</td>\n",
       "    </tr>\n",
       "  </tbody>\n",
       "</table>\n",
       "<p>342060 rows × 4 columns</p>\n",
       "</div>"
      ],
      "text/plain": [
       "                                                       en  \\\n",
       "0                                       Jamaica: I am HIV   \n",
       "1       It's widely acknowledged, in the Caribbean and...   \n",
       "2       For this woman, however, photographed in the s...   \n",
       "3                            As Bacon writes on her blog:   \n",
       "4       When I asked to take her picture, I suggested ...   \n",
       "...                                                   ...   \n",
       "342055                         But now, it's always pain.   \n",
       "342056  As of todaytoday is the beginning of a new lif...   \n",
       "342057  When I contacted Bishnu eight months later, sh...   \n",
       "342058  She's planning for her future, just as she was...   \n",
       "342059                 But now she's not wearing bangles.   \n",
       "\n",
       "                                                       fr  en_length  \\\n",
       "0                                  Jamaïque : J’ai le VIH          4   \n",
       "1       Il est largement reconnu, dans les Caraïbes et...         33   \n",
       "2       Pour cette femme, cependant, photographiée dan...         24   \n",
       "3                         Comme Bacon écrit sur son blog:          6   \n",
       "4       Quand je lui ai demandé de la prendre en photo...         15   \n",
       "...                                                   ...        ...   \n",
       "342055           Maintenant, tout n'est que souffrance.            5   \n",
       "342056   A partir d'aujourd'hui une nouvelle vie comme...         12   \n",
       "342057  Lorsque j'ai contacté Bishnu huit mois plus ta...         17   \n",
       "342058  Elle fait des plans pour l'avenir, tout comme ...         19   \n",
       "342059  Seulement, aujourd'hui, elle ne porte pas de b...          6   \n",
       "\n",
       "        fr_length  \n",
       "0               5  \n",
       "1              40  \n",
       "2              29  \n",
       "3               6  \n",
       "4              18  \n",
       "...           ...  \n",
       "342055          6  \n",
       "342056         11  \n",
       "342057         18  \n",
       "342058         22  \n",
       "342059          8  \n",
       "\n",
       "[342060 rows x 4 columns]"
      ]
     },
     "execution_count": 32,
     "metadata": {},
     "output_type": "execute_result"
    }
   ],
   "source": [
    "# lets remove the special characters from the English and French text\n",
    "segmentation_dataset['en'] = segmentation_dataset['en'].apply(remove_special_chars)\n",
    "segmentation_dataset['fr'] = segmentation_dataset['fr'].apply(remove_special_chars)\n",
    "\n",
    "segmentation_dataset"
   ]
  }
 ],
 "metadata": {
  "kernelspec": {
   "display_name": "Python 3",
   "language": "python",
   "name": "python3"
  },
  "language_info": {
   "codemirror_mode": {
    "name": "ipython",
    "version": 3
   },
   "file_extension": ".py",
   "mimetype": "text/x-python",
   "name": "python",
   "nbconvert_exporter": "python",
   "pygments_lexer": "ipython3",
   "version": "3.10.12"
  },
  "orig_nbformat": 4
 },
 "nbformat": 4,
 "nbformat_minor": 2
}
