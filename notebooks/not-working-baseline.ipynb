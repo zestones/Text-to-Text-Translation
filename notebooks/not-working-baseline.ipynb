{
 "cells": [
  {
   "cell_type": "markdown",
   "metadata": {},
   "source": [
    "# Baseline Text to Text Translation : English to French\n",
    "\n",
    "This notebook trains a sequence to sequence (seq2seq) model for English to French translation. This model will be our **baseline** model, which we will then improve upon by adding attention and other features.\n",
    "\n",
    "---"
   ]
  },
  {
   "cell_type": "code",
   "execution_count": 10,
   "metadata": {},
   "outputs": [],
   "source": [
    "from datasets import load_dataset\n",
    "import pandas as pd\n",
    "import numpy as np\n",
    "\n",
    "from sklearn.model_selection import train_test_split\n",
    "from scipy.sparse import csr_matrix\n",
    "\n",
    "from tokenizers import ByteLevelBPETokenizer\n",
    "\n",
    "from tensorflow.keras.layers import Embedding, LSTM, RepeatVector, TimeDistributed, Dense\n",
    "from tensorflow.keras.preprocessing.sequence import pad_sequences\n",
    "\n",
    "from tensorflow.keras.utils import to_categorical\n",
    "from tensorflow.keras.callbacks import ModelCheckpoint\n",
    "from tensorflow.keras.models import Sequential\n",
    "from tensorflow.keras.optimizers import Adam"
   ]
  },
  {
   "cell_type": "code",
   "execution_count": 11,
   "metadata": {},
   "outputs": [
    {
     "data": {
      "text/html": [
       "<div>\n",
       "<style scoped>\n",
       "    .dataframe tbody tr th:only-of-type {\n",
       "        vertical-align: middle;\n",
       "    }\n",
       "\n",
       "    .dataframe tbody tr th {\n",
       "        vertical-align: top;\n",
       "    }\n",
       "\n",
       "    .dataframe thead th {\n",
       "        text-align: right;\n",
       "    }\n",
       "</style>\n",
       "<table border=\"1\" class=\"dataframe\">\n",
       "  <thead>\n",
       "    <tr style=\"text-align: right;\">\n",
       "      <th></th>\n",
       "      <th>en</th>\n",
       "      <th>fr</th>\n",
       "    </tr>\n",
       "  </thead>\n",
       "  <tbody>\n",
       "    <tr>\n",
       "      <th>0</th>\n",
       "      <td>Jamaica: “I am HIV”</td>\n",
       "      <td>Jamaïque : J’ai le VIH</td>\n",
       "    </tr>\n",
       "    <tr>\n",
       "      <th>1</th>\n",
       "      <td>It's widely acknowledged, in the Caribbean and...</td>\n",
       "      <td>Il est largement reconnu, dans les Caraïbes et...</td>\n",
       "    </tr>\n",
       "    <tr>\n",
       "      <th>2</th>\n",
       "      <td>For this woman, however, photographed in the s...</td>\n",
       "      <td>Pour cette femme, cependant, photographiée dan...</td>\n",
       "    </tr>\n",
       "    <tr>\n",
       "      <th>3</th>\n",
       "      <td>As Bacon writes on her blog:</td>\n",
       "      <td>Comme Bacon écrit sur son blog:</td>\n",
       "    </tr>\n",
       "    <tr>\n",
       "      <th>4</th>\n",
       "      <td>“When I asked to take her picture, I suggested...</td>\n",
       "      <td>“Quand je lui ai demandé de la prendre en phot...</td>\n",
       "    </tr>\n",
       "  </tbody>\n",
       "</table>\n",
       "</div>"
      ],
      "text/plain": [
       "                                                  en  \\\n",
       "0                                Jamaica: “I am HIV”   \n",
       "1  It's widely acknowledged, in the Caribbean and...   \n",
       "2  For this woman, however, photographed in the s...   \n",
       "3                       As Bacon writes on her blog:   \n",
       "4  “When I asked to take her picture, I suggested...   \n",
       "\n",
       "                                                  fr  \n",
       "0                             Jamaïque : J’ai le VIH  \n",
       "1  Il est largement reconnu, dans les Caraïbes et...  \n",
       "2  Pour cette femme, cependant, photographiée dan...  \n",
       "3                    Comme Bacon écrit sur son blog:  \n",
       "4  “Quand je lui ai demandé de la prendre en phot...  "
      ]
     },
     "execution_count": 11,
     "metadata": {},
     "output_type": "execute_result"
    }
   ],
   "source": [
    "dataset = load_dataset(\"Nicolas-BZRD/Parallel_Global_Voices_English_French\", split='train').to_pandas()\n",
    "dataset.head()"
   ]
  },
  {
   "cell_type": "markdown",
   "metadata": {},
   "source": [
    "## Pre-Processing the Text Data"
   ]
  },
  {
   "cell_type": "code",
   "execution_count": 12,
   "metadata": {},
   "outputs": [],
   "source": [
    "# TODO : The preprocessing should be done inside the utils/preprocess.py file so that we can implement different preprocessing methods for our experiments"
   ]
  },
  {
   "cell_type": "code",
   "execution_count": 13,
   "metadata": {},
   "outputs": [],
   "source": [
    "def create_tokenizer(lines):\n",
    "    tokenizer = ByteLevelBPETokenizer()\n",
    "    tokenizer.train_from_iterator(lines)\n",
    "    return tokenizer\n",
    "\n",
    "def max_sequences_length(lines):\n",
    "    return max(len(line.split()) for line in lines)\n",
    "\n",
    "def padding_sequences(sequences, max_len):\n",
    "    sequences_ids = [seq.ids for seq in sequences]\n",
    "    padded_sequences = pad_sequences(sequences_ids, maxlen=max_len, padding='post')\n",
    "    return padded_sequences\n",
    "\n",
    "def encode_sequences(tokenizer, lines, max_length):\n",
    "    encoded_sequences = tokenizer.encode_batch(lines)\n",
    "    padded_sequences = padding_sequences(encoded_sequences, max_length)\n",
    "    return padded_sequences\n",
    "\n",
    "def encode_output_sparse(sequences, vocab_size):\n",
    "    ylist = []\n",
    "    for sequence in sequences:\n",
    "        sequence_ids = sequence.ids\n",
    "\n",
    "        # One-hot encode each token in the sequence\n",
    "        encoded = [to_categorical(token_id, num_classes=vocab_size).astype('float32') for token_id in sequence_ids]\n",
    "        ylist.append(encoded)\n",
    "\n",
    "    y = csr_matrix(np.array(ylist, dtype='float32'))\n",
    "    return y\n",
    "\n",
    "def decode_sequences(tokenizer, sequences):\n",
    "    decoded_sequences = []\n",
    "    for seq in sequences:\n",
    "        # Remove padding zeros\n",
    "        seq = seq[:np.argmax(seq == 0)]\n",
    "        decoded_seq = tokenizer.decode(seq)\n",
    "        decoded_sequences.append(decoded_seq)\n",
    "    return decoded_sequences\n",
    "\n",
    "def vocab_size(dataset):\n",
    "    return len(set([word for line in dataset for word in line.split()]))"
   ]
  },
  {
   "cell_type": "code",
   "execution_count": 14,
   "metadata": {},
   "outputs": [],
   "source": [
    "train_data, test_data = train_test_split(dataset, test_size=0.2, random_state=42)"
   ]
  },
  {
   "cell_type": "code",
   "execution_count": 15,
   "metadata": {},
   "outputs": [
    {
     "name": "stdout",
     "output_type": "stream",
     "text": [
      "\n",
      "\n",
      "\n",
      "\n",
      "\n",
      "\n"
     ]
    }
   ],
   "source": [
    "tokenizer_en = create_tokenizer(train_data['en'])\n",
    "tokenizer_fr = create_tokenizer(train_data['fr'])"
   ]
  },
  {
   "cell_type": "code",
   "execution_count": 16,
   "metadata": {},
   "outputs": [
    {
     "name": "stdout",
     "output_type": "stream",
     "text": [
      "Max length English: 362\n"
     ]
    }
   ],
   "source": [
    "max_length = max(max_sequences_length(train_data['en']), max_sequences_length(train_data['fr']), max_sequences_length(test_data['en']), max_sequences_length(test_data['fr']))\n",
    "print('Max length English: %d' % max_length)"
   ]
  },
  {
   "cell_type": "code",
   "execution_count": 17,
   "metadata": {},
   "outputs": [
    {
     "name": "stdout",
     "output_type": "stream",
     "text": [
      "English vocab size: 300928\n",
      "French vocab size: 323844\n"
     ]
    }
   ],
   "source": [
    "fr_vocab_size = vocab_size(train_data['fr'])\n",
    "eng_vocab_size = vocab_size(train_data['en'])\n",
    "\n",
    "print('English vocab size:', eng_vocab_size)\n",
    "print('French vocab size:', fr_vocab_size)"
   ]
  },
  {
   "cell_type": "code",
   "execution_count": 18,
   "metadata": {},
   "outputs": [],
   "source": [
    "# # take a sample of the dataset\n",
    "# train_data = train_data.sample(1000)\n",
    "# test_data = test_data.sample(100)\n",
    "\n",
    "# trainY = encode_sequences(tokenizer_fr, train_data['fr'], max_length)"
   ]
  },
  {
   "cell_type": "code",
   "execution_count": 19,
   "metadata": {},
   "outputs": [
    {
     "ename": "",
     "evalue": "",
     "output_type": "error",
     "traceback": [
      "\u001b[1;31mThe Kernel crashed while executing code in the the current cell or a previous cell. Please review the code in the cell(s) to identify a possible cause of the failure. Click <a href='https://aka.ms/vscodeJupyterKernelCrash'>here</a> for more info. View Jupyter <a href='command:jupyter.viewOutput'>log</a> for further details."
     ]
    }
   ],
   "source": [
    "# prepare training data\n",
    "trainX = encode_sequences(tokenizer_en, train_data['fr'], max_length)\n",
    "trainY = encode_output_sparse(tokenizer_en.encode_batch(train_data['en']), max_length)\n",
    "\n",
    "# prepare validation data\n",
    "testX = encode_sequences(tokenizer_en, test_data['fr'], max_length)\n",
    "testY = encode_output_sparse(tokenizer_en.encode_batch(test_data['en']), max_length)"
   ]
  },
  {
   "cell_type": "code",
   "execution_count": null,
   "metadata": {},
   "outputs": [],
   "source": [
    "print(decode_sequences(tokenizer_en, trainX[:1]))\n",
    "print(decode_sequences(tokenizer_fr, trainY[:1]))"
   ]
  },
  {
   "cell_type": "code",
   "execution_count": null,
   "metadata": {},
   "outputs": [],
   "source": [
    "def define_model(src_vocab, tar_vocab, src_timesteps, tar_timesteps, n_units):\n",
    "    model = Sequential()\n",
    "    \n",
    "    model.add(Embedding(src_vocab, n_units, input_length=src_timesteps, mask_zero=True))\n",
    "    model.add(LSTM(n_units))\n",
    "    \n",
    "    model.add(RepeatVector(tar_timesteps))\n",
    "    \n",
    "    model.add(LSTM(n_units, return_sequences=True))\n",
    "    model.add(TimeDistributed(Dense(tar_vocab, activation='softmax')))\n",
    "    \n",
    "    return model"
   ]
  },
  {
   "cell_type": "code",
   "execution_count": null,
   "metadata": {},
   "outputs": [],
   "source": [
    "print(\"max length of english sequences: \", max_sequences_length(train_data['en']))\n",
    "print(\"max length of french sequences: \", max_sequences_length(train_data['fr']))\n",
    "\n",
    "print()\n",
    "\n",
    "print(\"english vocab size: \", eng_vocab_size)\n",
    "print(\"french vocab size: \", fr_vocab_size)\n",
    "\n",
    "print()\n",
    "\n",
    "print(\"trainX shape: \", trainX.shape)\n",
    "print(\"trainY shape: \", trainY.shape)"
   ]
  },
  {
   "cell_type": "code",
   "execution_count": null,
   "metadata": {},
   "outputs": [],
   "source": [
    "fr_length = trainX.shape[1]\n",
    "eng_length = trainY.shape[1]\n",
    "\n",
    "n_units = 2"
   ]
  },
  {
   "cell_type": "code",
   "execution_count": null,
   "metadata": {},
   "outputs": [],
   "source": [
    "model = define_model(fr_vocab_size, eng_vocab_size, fr_length, eng_length, n_units)\n",
    "optimizer = Adam()  \n",
    "\n",
    "epochs = 10\n",
    "batch_size = 64\n",
    "\n",
    "model.compile(optimizer=optimizer, loss='categorical_crossentropy')\n",
    "model.summary()"
   ]
  },
  {
   "cell_type": "code",
   "execution_count": null,
   "metadata": {},
   "outputs": [],
   "source": [
    "model.fit(trainX, trainY, epochs=epochs, batch_size=batch_size, validation_data=(testX, testY))"
   ]
  }
 ],
 "metadata": {
  "kernelspec": {
   "display_name": "Python 3",
   "language": "python",
   "name": "python3"
  },
  "language_info": {
   "codemirror_mode": {
    "name": "ipython",
    "version": 3
   },
   "file_extension": ".py",
   "mimetype": "text/x-python",
   "name": "python",
   "nbconvert_exporter": "python",
   "pygments_lexer": "ipython3",
   "version": "3.10.12"
  },
  "orig_nbformat": 4
 },
 "nbformat": 4,
 "nbformat_minor": 2
}
