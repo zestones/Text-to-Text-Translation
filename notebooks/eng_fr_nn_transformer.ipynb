{
 "cells": [
  {
   "cell_type": "markdown",
   "id": "c48f0533-6fb4-4a48-a4a1-a28342ec3ed5",
   "metadata": {
    "tags": []
   },
   "source": [
    "## Introduction - English to French Translation using PyTorch nn.Transformer\n",
    "\n",
    "French to English translation notebook using PyTorch `nn.Transformer` module."
   ]
  },
  {
   "cell_type": "markdown",
   "id": "6553d52f-aa48-40be-9683-6cdef600799d",
   "metadata": {
    "tags": []
   },
   "source": [
    "## Setup (one time)"
   ]
  },
  {
   "cell_type": "code",
   "execution_count": 1,
   "id": "5ed90669-7798-4b3d-8a33-9089ee32782f",
   "metadata": {},
   "outputs": [],
   "source": [
    "# !pip install -U portalocker\n",
    "# !python3 -m spacy download en_core_web_sm\n",
    "# !python3 -m spacy download fr_core_news_sm"
   ]
  },
  {
   "cell_type": "markdown",
   "id": "1e802a83-44a9-4274-8900-6fd7926367ba",
   "metadata": {},
   "source": [
    "## Imports"
   ]
  },
  {
   "cell_type": "code",
   "execution_count": 2,
   "id": "42e07366",
   "metadata": {},
   "outputs": [],
   "source": [
    "%load_ext autoreload\n",
    "%aimport utils.text_processing\n",
    "%autoreload 1"
   ]
  },
  {
   "cell_type": "code",
   "execution_count": 8,
   "id": "f3464ad6-d02b-44a1-8971-546cc9243601",
   "metadata": {},
   "outputs": [
    {
     "name": "stderr",
     "output_type": "stream",
     "text": [
      "/home/marwan/.local/lib/python3.10/site-packages/tqdm/auto.py:21: TqdmWarning: IProgress not found. Please update jupyter and ipywidgets. See https://ipywidgets.readthedocs.io/en/stable/user_install.html\n",
      "  from .autonotebook import tqdm as notebook_tqdm\n"
     ]
    }
   ],
   "source": [
    "from torchtext.data.utils import get_tokenizer\n",
    "from torchtext.vocab import build_vocab_from_iterator\n",
    "from typing import Iterable, List\n",
    "from torch.nn.utils.rnn import pad_sequence\n",
    "from torch.utils.data import DataLoader, Dataset\n",
    "from timeit import default_timer as timer\n",
    "from torch.nn import Transformer\n",
    "from torch import Tensor\n",
    "from sklearn.model_selection import train_test_split\n",
    "from tqdm.auto import tqdm\n",
    "\n",
    "from utils.text_processing import TextProcessor\n",
    "from datasets import load_dataset\n",
    "\n",
    "import torch.nn as nn\n",
    "import torch\n",
    "import torch.nn.functional as F\n",
    "import numpy as np\n",
    "import math\n",
    "import os\n",
    "import pandas as pd\n",
    "import matplotlib.pyplot as plt"
   ]
  },
  {
   "cell_type": "code",
   "execution_count": 9,
   "id": "c0a939ee-6674-4437-8224-304d4dc41d8a",
   "metadata": {},
   "outputs": [],
   "source": [
    "# Set seed.\n",
    "seed = 42\n",
    "np.random.seed(seed)\n",
    "torch.manual_seed(seed)\n",
    "torch.cuda.manual_seed(seed)\n",
    "torch.backends.cudnn.deterministic = True\n",
    "torch.backends.cudnn.benchmark = True"
   ]
  },
  {
   "cell_type": "markdown",
   "id": "8e059b18-56f2-4d24-94d9-ca34f80f06d5",
   "metadata": {},
   "source": [
    "## Dataset Preparation"
   ]
  },
  {
   "cell_type": "code",
   "execution_count": 5,
   "id": "05e401da-9873-430a-96cb-83d3816ce46f",
   "metadata": {},
   "outputs": [],
   "source": [
    "SRC_LANGUAGE = 'en'\n",
    "TGT_LANGUAGE = 'fr'\n",
    "\n",
    "# Place-holders\n",
    "token_transform = {}\n",
    "vocab_transform = {}"
   ]
  },
  {
   "cell_type": "code",
   "execution_count": 6,
   "id": "24c51311-c8ea-40ed-9490-f89b3bd626a9",
   "metadata": {},
   "outputs": [],
   "source": [
    "token_transform[SRC_LANGUAGE] = get_tokenizer('spacy', language='en_core_web_sm')\n",
    "token_transform[TGT_LANGUAGE] = get_tokenizer('spacy', language='fr_core_news_sm')"
   ]
  },
  {
   "cell_type": "code",
   "execution_count": 7,
   "id": "1e6904a7-71f4-486f-ae5c-9073ff098de5",
   "metadata": {},
   "outputs": [
    {
     "data": {
      "text/html": [
       "<div>\n",
       "<style scoped>\n",
       "    .dataframe tbody tr th:only-of-type {\n",
       "        vertical-align: middle;\n",
       "    }\n",
       "\n",
       "    .dataframe tbody tr th {\n",
       "        vertical-align: top;\n",
       "    }\n",
       "\n",
       "    .dataframe thead th {\n",
       "        text-align: right;\n",
       "    }\n",
       "</style>\n",
       "<table border=\"1\" class=\"dataframe\">\n",
       "  <thead>\n",
       "    <tr style=\"text-align: right;\">\n",
       "      <th></th>\n",
       "      <th>en</th>\n",
       "      <th>fr</th>\n",
       "    </tr>\n",
       "  </thead>\n",
       "  <tbody>\n",
       "    <tr>\n",
       "      <th>3129</th>\n",
       "      <td>&lt;start&gt; me what was what &lt;end&gt;</td>\n",
       "      <td>&lt;start&gt; maman qu'est-ce qui se passe &lt;end&gt;</td>\n",
       "    </tr>\n",
       "    <tr>\n",
       "      <th>21020</th>\n",
       "      <td>&lt;start&gt; dr congo fighting continues &lt;end&gt;</td>\n",
       "      <td>&lt;start&gt; congo rdc dernieres nouvelles de goma ...</td>\n",
       "    </tr>\n",
       "    <tr>\n",
       "      <th>339572</th>\n",
       "      <td>&lt;start&gt; we used our connections and networks t...</td>\n",
       "      <td>&lt;start&gt; nous avons utilise nos relations et re...</td>\n",
       "    </tr>\n",
       "    <tr>\n",
       "      <th>142986</th>\n",
       "      <td>&lt;start&gt; and what can be done &lt;end&gt;</td>\n",
       "      <td>&lt;start&gt; comment y remedier &lt;end&gt;</td>\n",
       "    </tr>\n",
       "    <tr>\n",
       "      <th>235641</th>\n",
       "      <td>&lt;start&gt; open more local chinese pizza shops th...</td>\n",
       "      <td>&lt;start&gt; ouvrez plus de pizzerias locales chino...</td>\n",
       "    </tr>\n",
       "    <tr>\n",
       "      <th>164543</th>\n",
       "      <td>&lt;start&gt; after the french interior ministry sta...</td>\n",
       "      <td>&lt;start&gt; apres les declarations du ministre fra...</td>\n",
       "    </tr>\n",
       "    <tr>\n",
       "      <th>124702</th>\n",
       "      <td>&lt;start&gt; along with speculation about a fall in...</td>\n",
       "      <td>&lt;start&gt; a cote des speculations relatives a un...</td>\n",
       "    </tr>\n",
       "    <tr>\n",
       "      <th>103919</th>\n",
       "      <td>&lt;start&gt; ug's spores are transported by wind bu...</td>\n",
       "      <td>&lt;start&gt; les spores de l'ug sont disseminees pa...</td>\n",
       "    </tr>\n",
       "    <tr>\n",
       "      <th>111782</th>\n",
       "      <td>&lt;start&gt; andrea arzaba from mexico was one of t...</td>\n",
       "      <td>&lt;start&gt; andrea arzaba du mexique etait l'un de...</td>\n",
       "    </tr>\n",
       "    <tr>\n",
       "      <th>211261</th>\n",
       "      <td>&lt;start&gt; margee ensign currently president of t...</td>\n",
       "      <td>&lt;start&gt; margee ensign actuellement presidente ...</td>\n",
       "    </tr>\n",
       "  </tbody>\n",
       "</table>\n",
       "</div>"
      ],
      "text/plain": [
       "                                                       en  \\\n",
       "3129                       <start> me what was what <end>   \n",
       "21020           <start> dr congo fighting continues <end>   \n",
       "339572  <start> we used our connections and networks t...   \n",
       "142986                 <start> and what can be done <end>   \n",
       "235641  <start> open more local chinese pizza shops th...   \n",
       "164543  <start> after the french interior ministry sta...   \n",
       "124702  <start> along with speculation about a fall in...   \n",
       "103919  <start> ug's spores are transported by wind bu...   \n",
       "111782  <start> andrea arzaba from mexico was one of t...   \n",
       "211261  <start> margee ensign currently president of t...   \n",
       "\n",
       "                                                       fr  \n",
       "3129           <start> maman qu'est-ce qui se passe <end>  \n",
       "21020   <start> congo rdc dernieres nouvelles de goma ...  \n",
       "339572  <start> nous avons utilise nos relations et re...  \n",
       "142986                   <start> comment y remedier <end>  \n",
       "235641  <start> ouvrez plus de pizzerias locales chino...  \n",
       "164543  <start> apres les declarations du ministre fra...  \n",
       "124702  <start> a cote des speculations relatives a un...  \n",
       "103919  <start> les spores de l'ug sont disseminees pa...  \n",
       "111782  <start> andrea arzaba du mexique etait l'un de...  \n",
       "211261  <start> margee ensign actuellement presidente ...  "
      ]
     },
     "execution_count": 7,
     "metadata": {},
     "output_type": "execute_result"
    }
   ],
   "source": [
    "dataset = load_dataset(\"Nicolas-BZRD/Parallel_Global_Voices_English_French\", split='train').to_pandas()\n",
    "dataset = dataset.sample(n=50000)\n",
    "\n",
    "max_sequence_length = 20\n",
    "\n",
    "# truncate the sentences to the max_sequence_length\n",
    "dataset['en'] = dataset['en'].apply(lambda x: ' '.join(x.split()[:max_sequence_length]))\n",
    "dataset['fr'] = dataset['fr'].apply(lambda x: ' '.join(x.split()[:max_sequence_length]))\n",
    "\n",
    "# clean the english and french sentences\n",
    "dataset['en'] = TextProcessor(dataset, 'en').transform()\n",
    "dataset['fr'] = TextProcessor(dataset, 'fr').transform()\n",
    "\n",
    "dataset.head(10)"
   ]
  },
  {
   "cell_type": "code",
   "execution_count": 8,
   "id": "1381f475-7d8d-4e80-a13b-dd26b6668940",
   "metadata": {},
   "outputs": [],
   "source": [
    "train_csv, test_csv = train_test_split(dataset, test_size=0.1)"
   ]
  },
  {
   "cell_type": "code",
   "execution_count": 9,
   "id": "b386bbdf-bd3e-47e2-a57f-243afe6cd748",
   "metadata": {},
   "outputs": [
    {
     "name": "stdout",
     "output_type": "stream",
     "text": [
      "45000\n",
      "5000\n"
     ]
    }
   ],
   "source": [
    "print(len(train_csv))\n",
    "print(len(test_csv))"
   ]
  },
  {
   "cell_type": "code",
   "execution_count": 10,
   "id": "5758604d-6c78-432d-8a23-70d71dff07ee",
   "metadata": {},
   "outputs": [
    {
     "data": {
      "text/html": [
       "<div>\n",
       "<style scoped>\n",
       "    .dataframe tbody tr th:only-of-type {\n",
       "        vertical-align: middle;\n",
       "    }\n",
       "\n",
       "    .dataframe tbody tr th {\n",
       "        vertical-align: top;\n",
       "    }\n",
       "\n",
       "    .dataframe thead th {\n",
       "        text-align: right;\n",
       "    }\n",
       "</style>\n",
       "<table border=\"1\" class=\"dataframe\">\n",
       "  <thead>\n",
       "    <tr style=\"text-align: right;\">\n",
       "      <th></th>\n",
       "      <th>en</th>\n",
       "      <th>fr</th>\n",
       "    </tr>\n",
       "  </thead>\n",
       "  <tbody>\n",
       "    <tr>\n",
       "      <th>153654</th>\n",
       "      <td>&lt;start&gt; i know even more about yan wang's sear...</td>\n",
       "      <td>&lt;start&gt; je connais meme encore mieux les metho...</td>\n",
       "    </tr>\n",
       "    <tr>\n",
       "      <th>162703</th>\n",
       "      <td>&lt;start&gt; global voices mentors &lt;end&gt;</td>\n",
       "      <td>&lt;start&gt; les tuteurs de global voices &lt;end&gt;</td>\n",
       "    </tr>\n",
       "    <tr>\n",
       "      <th>63648</th>\n",
       "      <td>&lt;start&gt; there is a question that i do not have...</td>\n",
       "      <td>&lt;start&gt; il y a une question pour laquelle je n...</td>\n",
       "    </tr>\n",
       "    <tr>\n",
       "      <th>61539</th>\n",
       "      <td>&lt;start&gt; perhaps i did miss my own opportunity ...</td>\n",
       "      <td>&lt;start&gt; ou encore vous avez tort et vous n'ave...</td>\n",
       "    </tr>\n",
       "    <tr>\n",
       "      <th>291998</th>\n",
       "      <td>&lt;start&gt; the elections are not without controve...</td>\n",
       "      <td>&lt;start&gt; les elections ne vont pas sans controv...</td>\n",
       "    </tr>\n",
       "  </tbody>\n",
       "</table>\n",
       "</div>"
      ],
      "text/plain": [
       "                                                       en  \\\n",
       "153654  <start> i know even more about yan wang's sear...   \n",
       "162703                <start> global voices mentors <end>   \n",
       "63648   <start> there is a question that i do not have...   \n",
       "61539   <start> perhaps i did miss my own opportunity ...   \n",
       "291998  <start> the elections are not without controve...   \n",
       "\n",
       "                                                       fr  \n",
       "153654  <start> je connais meme encore mieux les metho...  \n",
       "162703         <start> les tuteurs de global voices <end>  \n",
       "63648   <start> il y a une question pour laquelle je n...  \n",
       "61539   <start> ou encore vous avez tort et vous n'ave...  \n",
       "291998  <start> les elections ne vont pas sans controv...  "
      ]
     },
     "execution_count": 10,
     "metadata": {},
     "output_type": "execute_result"
    }
   ],
   "source": [
    "train_csv.head()"
   ]
  },
  {
   "cell_type": "code",
   "execution_count": 11,
   "id": "045587be-74ed-4fc3-bacb-11c2a72c19cc",
   "metadata": {},
   "outputs": [
    {
     "data": {
      "text/html": [
       "<div>\n",
       "<style scoped>\n",
       "    .dataframe tbody tr th:only-of-type {\n",
       "        vertical-align: middle;\n",
       "    }\n",
       "\n",
       "    .dataframe tbody tr th {\n",
       "        vertical-align: top;\n",
       "    }\n",
       "\n",
       "    .dataframe thead th {\n",
       "        text-align: right;\n",
       "    }\n",
       "</style>\n",
       "<table border=\"1\" class=\"dataframe\">\n",
       "  <thead>\n",
       "    <tr style=\"text-align: right;\">\n",
       "      <th></th>\n",
       "      <th>en</th>\n",
       "      <th>fr</th>\n",
       "    </tr>\n",
       "  </thead>\n",
       "  <tbody>\n",
       "    <tr>\n",
       "      <th>158893</th>\n",
       "      <td>&lt;start&gt; it has also been confirmed that mark d...</td>\n",
       "      <td>&lt;start&gt; il a egalement ete confirme que mark d...</td>\n",
       "    </tr>\n",
       "    <tr>\n",
       "      <th>53763</th>\n",
       "      <td>&lt;start&gt; islandista keeps it simple &lt;end&gt;</td>\n",
       "      <td>&lt;start&gt; islandista reste simple &lt;end&gt;</td>\n",
       "    </tr>\n",
       "    <tr>\n",
       "      <th>310949</th>\n",
       "      <td>&lt;start&gt; tajikistan still debating the good and...</td>\n",
       "      <td>&lt;start&gt; au tadjikistan on evalue le pour et le...</td>\n",
       "    </tr>\n",
       "    <tr>\n",
       "      <th>179409</th>\n",
       "      <td>&lt;start&gt; the hungry man is an angry manpay the ...</td>\n",
       "      <td>&lt;start&gt; l'homme affame est un homme en colere ...</td>\n",
       "    </tr>\n",
       "    <tr>\n",
       "      <th>309057</th>\n",
       "      <td>&lt;start&gt; tell your story share your view debate...</td>\n",
       "      <td>&lt;start&gt; racontez votre histoire partagez votre...</td>\n",
       "    </tr>\n",
       "    <tr>\n",
       "      <th>10932</th>\n",
       "      <td>&lt;start&gt; kosovar independence is a prickly ques...</td>\n",
       "      <td>&lt;start&gt; l'independance du kosovo est une quest...</td>\n",
       "    </tr>\n",
       "    <tr>\n",
       "      <th>65451</th>\n",
       "      <td>&lt;start&gt; i have lived along katipunan avenue in...</td>\n",
       "      <td>&lt;start&gt; depuis ma naissance je vis le long de ...</td>\n",
       "    </tr>\n",
       "    <tr>\n",
       "      <th>1254</th>\n",
       "      <td>&lt;start&gt; rarely does a week pass by without new...</td>\n",
       "      <td>&lt;start&gt; une semaine passe rarement sans que la...</td>\n",
       "    </tr>\n",
       "    <tr>\n",
       "      <th>216217</th>\n",
       "      <td>&lt;start&gt; these vultures these vampires who slow...</td>\n",
       "      <td>&lt;start&gt; ces vautours ces vampires qui ponction...</td>\n",
       "    </tr>\n",
       "    <tr>\n",
       "      <th>4451</th>\n",
       "      <td>&lt;start&gt; big ones small ones international ones...</td>\n",
       "      <td>&lt;start&gt; des grandes des petites des internatio...</td>\n",
       "    </tr>\n",
       "  </tbody>\n",
       "</table>\n",
       "</div>"
      ],
      "text/plain": [
       "                                                       en  \\\n",
       "158893  <start> it has also been confirmed that mark d...   \n",
       "53763            <start> islandista keeps it simple <end>   \n",
       "310949  <start> tajikistan still debating the good and...   \n",
       "179409  <start> the hungry man is an angry manpay the ...   \n",
       "309057  <start> tell your story share your view debate...   \n",
       "10932   <start> kosovar independence is a prickly ques...   \n",
       "65451   <start> i have lived along katipunan avenue in...   \n",
       "1254    <start> rarely does a week pass by without new...   \n",
       "216217  <start> these vultures these vampires who slow...   \n",
       "4451    <start> big ones small ones international ones...   \n",
       "\n",
       "                                                       fr  \n",
       "158893  <start> il a egalement ete confirme que mark d...  \n",
       "53763               <start> islandista reste simple <end>  \n",
       "310949  <start> au tadjikistan on evalue le pour et le...  \n",
       "179409  <start> l'homme affame est un homme en colere ...  \n",
       "309057  <start> racontez votre histoire partagez votre...  \n",
       "10932   <start> l'independance du kosovo est une quest...  \n",
       "65451   <start> depuis ma naissance je vis le long de ...  \n",
       "1254    <start> une semaine passe rarement sans que la...  \n",
       "216217  <start> ces vautours ces vampires qui ponction...  \n",
       "4451    <start> des grandes des petites des internatio...  "
      ]
     },
     "execution_count": 11,
     "metadata": {},
     "output_type": "execute_result"
    }
   ],
   "source": [
    "test_csv.head(10)"
   ]
  },
  {
   "cell_type": "code",
   "execution_count": 12,
   "id": "3073d3c1-f303-4a33-b0dc-67cca89d4eef",
   "metadata": {},
   "outputs": [
    {
     "name": "stdout",
     "output_type": "stream",
     "text": [
      "<start> que vous ayez fait des plaisanteries idiotes ou montre votre soutien peu importe <end>\n",
      "<start> if you told stupid jokes or showed your support it does not matter <end>\n"
     ]
    }
   ],
   "source": [
    "print(train_csv['fr'].iloc[100])\n",
    "print(train_csv['en'].iloc[100])"
   ]
  },
  {
   "cell_type": "code",
   "execution_count": 10,
   "id": "ee6c0a66-6c53-4794-8fe0-4fc80484caec",
   "metadata": {},
   "outputs": [],
   "source": [
    "# Custom Dataset class.\n",
    "class TranslationDataset(Dataset):\n",
    "    def __init__(self, csv):\n",
    "        self.csv = csv\n",
    "        \n",
    "    def __len__(self):\n",
    "        return len(self.csv)\n",
    "    \n",
    "    def __getitem__(self, idx):\n",
    "        return(\n",
    "            self.csv['en'].iloc[idx],\n",
    "            self.csv['fr'].iloc[idx]\n",
    "        )"
   ]
  },
  {
   "cell_type": "code",
   "execution_count": 14,
   "id": "4b42d92c-2083-4b79-ab04-8cc758632f98",
   "metadata": {},
   "outputs": [],
   "source": [
    "train_dataset = TranslationDataset(train_csv)\n",
    "valid_dataset = TranslationDataset(test_csv)"
   ]
  },
  {
   "cell_type": "code",
   "execution_count": 15,
   "id": "3dcac233-3c94-4487-9ddd-64273725341a",
   "metadata": {},
   "outputs": [
    {
     "name": "stdout",
     "output_type": "stream",
     "text": [
      "(\"<start> i know even more about yan wang's search for minions <end>\", '<start> je connais meme encore mieux les methodes de fouille des sbires de yan wang <end>')\n"
     ]
    }
   ],
   "source": [
    "iterator = iter(train_dataset)\n",
    "print(next(iterator))"
   ]
  },
  {
   "cell_type": "code",
   "execution_count": 16,
   "id": "e0d2fe2d-4c1a-4f76-9642-23ae492a8160",
   "metadata": {},
   "outputs": [],
   "source": [
    "# Helper function to yield list of tokens.\n",
    "def yield_tokens(data_iter: Iterable, language: str) -> List[str]:\n",
    "    language_index = {SRC_LANGUAGE: 0, TGT_LANGUAGE: 1}\n",
    "\n",
    "    for data_sample in data_iter:\n",
    "        yield token_transform[language](data_sample[language_index[language]])\n",
    "\n",
    "# Define special symbols and indices.\n",
    "UNK_IDX, PAD_IDX, BOS_IDX, EOS_IDX = 0, 1, 2, 3\n",
    "# Make sure the tokens are in order of their indices to properly insert them in vocab.\n",
    "special_symbols = ['<unk>', '<pad>', '<bos>', '<eos>']\n",
    "\n",
    "for ln in [SRC_LANGUAGE, TGT_LANGUAGE]:\n",
    "    # Create torchtext's Vocab object.\n",
    "    vocab_transform[ln] = build_vocab_from_iterator(\n",
    "        yield_tokens(train_dataset, ln),\n",
    "        min_freq=1,\n",
    "        specials=special_symbols,\n",
    "        special_first=True,\n",
    "    )\n",
    "\n",
    "# Set ``UNK_IDX`` as the default index. This index is returned when the token is not found.\n",
    "# If not set, it throws ``RuntimeError`` when the queried token is not found in the Vocabulary.\n",
    "for ln in [SRC_LANGUAGE, TGT_LANGUAGE]:\n",
    "    vocab_transform[ln].set_default_index(UNK_IDX)"
   ]
  },
  {
   "cell_type": "code",
   "execution_count": 17,
   "id": "ea60b5ed-2bd7-4f62-b573-c86f4d688250",
   "metadata": {},
   "outputs": [],
   "source": [
    "# helper function to club together sequential operations\n",
    "def sequential_transforms(*transforms):\n",
    "    def func(txt_input):\n",
    "        for transform in transforms:\n",
    "            txt_input = transform(txt_input)\n",
    "        return txt_input\n",
    "    return func\n",
    "\n",
    "# function to add BOS/EOS and create tensor for input sequence indices\n",
    "def tensor_transform(token_ids: List[int]):\n",
    "    return torch.cat((torch.tensor([BOS_IDX]),\n",
    "                      torch.tensor(token_ids),\n",
    "                      torch.tensor([EOS_IDX])))\n",
    "\n",
    "# `src` and `tgt` language text transforms to convert raw strings into tensors indices\n",
    "text_transform = {}\n",
    "for ln in [SRC_LANGUAGE, TGT_LANGUAGE]:\n",
    "    text_transform[ln] = sequential_transforms(token_transform[ln], # Tokenization\n",
    "                                               vocab_transform[ln], # Numericalization\n",
    "                                               tensor_transform) # Add BOS/EOS and create tensor\n",
    "\n",
    "\n",
    "# function to collate data samples into batch tensors\n",
    "def collate_fn(batch):\n",
    "    src_batch, tgt_batch = [], []\n",
    "    for src_sample, tgt_sample in batch:\n",
    "        src_batch.append(text_transform[SRC_LANGUAGE](src_sample.rstrip(\"\\n\")))\n",
    "        tgt_batch.append(text_transform[TGT_LANGUAGE](tgt_sample.rstrip(\"\\n\")))\n",
    "\n",
    "    src_batch = pad_sequence(src_batch, padding_value=PAD_IDX, batch_first=True)\n",
    "    tgt_batch = pad_sequence(tgt_batch, padding_value=PAD_IDX, batch_first=True)\n",
    "    return src_batch, tgt_batch"
   ]
  },
  {
   "cell_type": "markdown",
   "id": "707fea47-99d1-4712-ae3f-ce5bbb7310da",
   "metadata": {},
   "source": [
    "## Model and Training Hyperparameters"
   ]
  },
  {
   "cell_type": "code",
   "execution_count": 18,
   "id": "4b632845-b77c-47ea-89c6-cd6e69d59456",
   "metadata": {},
   "outputs": [],
   "source": [
    "SRC_VOCAB_SIZE = len(vocab_transform[SRC_LANGUAGE])\n",
    "TGT_VOCAB_SIZE = len(vocab_transform[TGT_LANGUAGE])\n",
    "EMB_SIZE = 192\n",
    "NHEAD = 6\n",
    "FFN_HID_DIM = 192\n",
    "BATCH_SIZE = 16\n",
    "NUM_ENCODER_LAYERS = 3\n",
    "NUM_DECODER_LAYERS = 3\n",
    "DEVICE = 'cuda'\n",
    "NUM_EPOCHS = 20"
   ]
  },
  {
   "cell_type": "markdown",
   "id": "9a404b49-d607-49d3-aa62-ef041af20a6d",
   "metadata": {},
   "source": [
    "## Prepare Model"
   ]
  },
  {
   "cell_type": "code",
   "execution_count": 11,
   "id": "b1186bf9-9aa9-4c82-b0a3-eaf804c4af50",
   "metadata": {},
   "outputs": [],
   "source": [
    "def generate_square_subsequent_mask(sz):\n",
    "    mask = (torch.triu(torch.ones((sz, sz), device=DEVICE)) == 1).transpose(0, 1)\n",
    "    mask = mask.float().masked_fill(mask == 0, float('-inf')).masked_fill(mask == 1, float(0.0))\n",
    "    return mask\n",
    "\n",
    "def create_mask(src, tgt):\n",
    "    src_seq_len = src.shape[1]\n",
    "    tgt_seq_len = tgt.shape[1]\n",
    "\n",
    "    tgt_mask = generate_square_subsequent_mask(tgt_seq_len)\n",
    "    src_mask = torch.zeros((src_seq_len, src_seq_len),device=DEVICE).type(torch.bool)\n",
    "\n",
    "    src_padding_mask = (src == PAD_IDX)\n",
    "    tgt_padding_mask = (tgt == PAD_IDX)\n",
    "    return src_mask, tgt_mask, src_padding_mask, tgt_padding_mask"
   ]
  },
  {
   "cell_type": "code",
   "execution_count": 12,
   "id": "6b710b06-52bf-4961-a32f-c5627df92ed6",
   "metadata": {},
   "outputs": [],
   "source": [
    "class PositionalEncoding(nn.Module):\n",
    "    def __init__(self, d_model, dropout, max_len=5000):\n",
    "        \"\"\"\n",
    "        :param max_len: Input length sequence.\n",
    "        :param d_model: Embedding dimension.\n",
    "        :param dropout: Dropout value (default=0.1)\n",
    "        \"\"\"\n",
    "        super(PositionalEncoding, self).__init__()\n",
    "        self.dropout = nn.Dropout(p=dropout)\n",
    "\n",
    "        pe = torch.zeros(max_len, d_model)\n",
    "        position = torch.arange(0, max_len, dtype=torch.float).unsqueeze(1)\n",
    "        div_term = torch.exp(torch.arange(0, d_model, 2).float() * (-math.log(10000.0) / d_model))\n",
    "        pe[:, 0::2] = torch.sin(position * div_term)\n",
    "        pe[:, 1::2] = torch.cos(position * div_term)\n",
    "        pe = pe.unsqueeze(0)\n",
    "        self.register_buffer('pe', pe)\n",
    "\n",
    "    def forward(self, x):\n",
    "        \"\"\"\n",
    "        Inputs of forward function\n",
    "        :param x: the sequence fed to the positional encoder model (required).\n",
    "        Shape:\n",
    "            x: [sequence length, batch size, embed dim]\n",
    "            output: [sequence length, batch size, embed dim]\n",
    "        \"\"\"\n",
    "\n",
    "        x = x + self.pe[:, :x.size(1)]\n",
    "        return self.dropout(x)"
   ]
  },
  {
   "cell_type": "code",
   "execution_count": 13,
   "id": "c0bad338-d85e-4086-8834-9381c41f2564",
   "metadata": {},
   "outputs": [],
   "source": [
    "class TokenEmbedding(nn.Module):\n",
    "    def __init__(self, vocab_size: int, emb_size):\n",
    "        super(TokenEmbedding, self).__init__()\n",
    "        self.embedding = nn.Embedding(vocab_size, emb_size)\n",
    "        self.emb_size = emb_size\n",
    "\n",
    "    def forward(self, tokens: Tensor):\n",
    "        return self.embedding(tokens.long()) * math.sqrt(self.emb_size)"
   ]
  },
  {
   "cell_type": "code",
   "execution_count": 14,
   "id": "4dcc5790-cf69-4eb2-93e1-ba2b50299277",
   "metadata": {},
   "outputs": [],
   "source": [
    "class Seq2SeqTransformer(nn.Module):\n",
    "    def __init__(\n",
    "        self,\n",
    "        num_encoder_layers: int,\n",
    "        num_decoder_layers: int,\n",
    "        emb_size: int,\n",
    "        nhead: int,\n",
    "        src_vocab_size: int,\n",
    "        tgt_vocab_size: int,\n",
    "        dim_feedforward: int = 512,\n",
    "        dropout: float = 0.1\n",
    "    ):\n",
    "        super(Seq2SeqTransformer, self).__init__()\n",
    "        self.transformer = Transformer(\n",
    "            d_model=emb_size,\n",
    "            nhead=nhead,\n",
    "            num_encoder_layers=num_encoder_layers,\n",
    "            num_decoder_layers=num_decoder_layers,\n",
    "            dim_feedforward=dim_feedforward,\n",
    "            dropout=dropout,\n",
    "            batch_first=True\n",
    "        )\n",
    "        self.generator = nn.Linear(emb_size, tgt_vocab_size)\n",
    "        self.src_tok_emb = TokenEmbedding(src_vocab_size, emb_size)\n",
    "        self.tgt_tok_emb = TokenEmbedding(tgt_vocab_size, emb_size)\n",
    "        self.positional_encoding = PositionalEncoding(\n",
    "            emb_size, dropout=dropout)\n",
    "\n",
    "    def forward(self,\n",
    "                src: Tensor,\n",
    "                trg: Tensor,\n",
    "                src_mask: Tensor,\n",
    "                tgt_mask: Tensor,\n",
    "                src_padding_mask: Tensor,\n",
    "                tgt_padding_mask: Tensor,\n",
    "                memory_key_padding_mask: Tensor):\n",
    "        src_emb = self.positional_encoding(self.src_tok_emb(src))\n",
    "        tgt_emb = self.positional_encoding(self.tgt_tok_emb(trg))\n",
    "        outs = self.transformer(src_emb, tgt_emb, src_mask, tgt_mask, None,\n",
    "                                src_padding_mask, tgt_padding_mask, memory_key_padding_mask)\n",
    "        return self.generator(outs)\n",
    "\n",
    "    def encode(self, src: Tensor, src_mask: Tensor):\n",
    "        return self.transformer.encoder(self.positional_encoding(\n",
    "                            self.src_tok_emb(src)), src_mask)\n",
    "\n",
    "    def decode(self, tgt: Tensor, memory: Tensor, tgt_mask: Tensor):\n",
    "        return self.transformer.decoder(self.positional_encoding(\n",
    "                          self.tgt_tok_emb(tgt)), memory,\n",
    "                          tgt_mask)"
   ]
  },
  {
   "cell_type": "code",
   "execution_count": 23,
   "id": "619c54c4-eb08-439b-b073-03758b6352e0",
   "metadata": {
    "scrolled": true,
    "tags": []
   },
   "outputs": [
    {
     "name": "stdout",
     "output_type": "stream",
     "text": [
      "28,259,892 total parameters.\n",
      "28,259,892 training parameters.\n",
      "Seq2SeqTransformer(\n",
      "  (transformer): Transformer(\n",
      "    (encoder): TransformerEncoder(\n",
      "      (layers): ModuleList(\n",
      "        (0-2): 3 x TransformerEncoderLayer(\n",
      "          (self_attn): MultiheadAttention(\n",
      "            (out_proj): NonDynamicallyQuantizableLinear(in_features=192, out_features=192, bias=True)\n",
      "          )\n",
      "          (linear1): Linear(in_features=192, out_features=192, bias=True)\n",
      "          (dropout): Dropout(p=0.1, inplace=False)\n",
      "          (linear2): Linear(in_features=192, out_features=192, bias=True)\n",
      "          (norm1): LayerNorm((192,), eps=1e-05, elementwise_affine=True)\n",
      "          (norm2): LayerNorm((192,), eps=1e-05, elementwise_affine=True)\n",
      "          (dropout1): Dropout(p=0.1, inplace=False)\n",
      "          (dropout2): Dropout(p=0.1, inplace=False)\n",
      "        )\n",
      "      )\n",
      "      (norm): LayerNorm((192,), eps=1e-05, elementwise_affine=True)\n",
      "    )\n",
      "    (decoder): TransformerDecoder(\n",
      "      (layers): ModuleList(\n",
      "        (0-2): 3 x TransformerDecoderLayer(\n",
      "          (self_attn): MultiheadAttention(\n",
      "            (out_proj): NonDynamicallyQuantizableLinear(in_features=192, out_features=192, bias=True)\n",
      "          )\n",
      "          (multihead_attn): MultiheadAttention(\n",
      "            (out_proj): NonDynamicallyQuantizableLinear(in_features=192, out_features=192, bias=True)\n",
      "          )\n",
      "          (linear1): Linear(in_features=192, out_features=192, bias=True)\n",
      "          (dropout): Dropout(p=0.1, inplace=False)\n",
      "          (linear2): Linear(in_features=192, out_features=192, bias=True)\n",
      "          (norm1): LayerNorm((192,), eps=1e-05, elementwise_affine=True)\n",
      "          (norm2): LayerNorm((192,), eps=1e-05, elementwise_affine=True)\n",
      "          (norm3): LayerNorm((192,), eps=1e-05, elementwise_affine=True)\n",
      "          (dropout1): Dropout(p=0.1, inplace=False)\n",
      "          (dropout2): Dropout(p=0.1, inplace=False)\n",
      "          (dropout3): Dropout(p=0.1, inplace=False)\n",
      "        )\n",
      "      )\n",
      "      (norm): LayerNorm((192,), eps=1e-05, elementwise_affine=True)\n",
      "    )\n",
      "  )\n",
      "  (generator): Linear(in_features=192, out_features=47988, bias=True)\n",
      "  (src_tok_emb): TokenEmbedding(\n",
      "    (embedding): Embedding(41663, 192)\n",
      "  )\n",
      "  (tgt_tok_emb): TokenEmbedding(\n",
      "    (embedding): Embedding(47988, 192)\n",
      "  )\n",
      "  (positional_encoding): PositionalEncoding(\n",
      "    (dropout): Dropout(p=0.1, inplace=False)\n",
      "  )\n",
      ")\n"
     ]
    }
   ],
   "source": [
    "model = Seq2SeqTransformer(\n",
    "    NUM_ENCODER_LAYERS, \n",
    "    NUM_DECODER_LAYERS, \n",
    "    EMB_SIZE,\n",
    "    NHEAD, \n",
    "    SRC_VOCAB_SIZE, \n",
    "    TGT_VOCAB_SIZE, \n",
    "    FFN_HID_DIM\n",
    ").to(DEVICE)\n",
    "\n",
    "# Total parameters and trainable parameters.\n",
    "total_params = sum(p.numel() for p in model.parameters())\n",
    "print(f\"{total_params:,} total parameters.\")\n",
    "total_trainable_params = sum(\n",
    "    p.numel() for p in model.parameters() if p.requires_grad)\n",
    "print(f\"{total_trainable_params:,} training parameters.\")\n",
    "print(model)"
   ]
  },
  {
   "cell_type": "markdown",
   "id": "6c6f9423-2ed1-499d-a46d-81d8c77b385e",
   "metadata": {},
   "source": [
    "## Loss function and optimizer."
   ]
  },
  {
   "cell_type": "code",
   "execution_count": 24,
   "id": "e4d79f7d-f257-4614-a0ac-f272ffd71051",
   "metadata": {},
   "outputs": [],
   "source": [
    "loss_fn = torch.nn.CrossEntropyLoss(ignore_index=PAD_IDX)\n",
    "\n",
    "optimizer = torch.optim.Adam(model.parameters(), lr=0.0001, betas=(0.9, 0.98), eps=1e-9)"
   ]
  },
  {
   "cell_type": "code",
   "execution_count": 25,
   "id": "ce8de670-e9e6-430d-a7a4-b3eaf2edd429",
   "metadata": {},
   "outputs": [],
   "source": [
    "train_dataloader = DataLoader(train_dataset, batch_size=BATCH_SIZE, collate_fn=collate_fn)\n",
    "def train_epoch(model, optimizer):\n",
    "    print('Training')\n",
    "    model.train()\n",
    "    losses = 0\n",
    "\n",
    "    for src, tgt in tqdm(train_dataloader, total=len(list(train_dataloader))):            \n",
    "        # print(\" \".join(vocab_transform[SRC_LANGUAGE].lookup_tokens(list(src[0].cpu().numpy()))).replace(\"<bos>\", \"\").replace(\"<eos>\", \"\"))\n",
    "        # print(\" \".join(vocab_transform[TGT_LANGUAGE].lookup_tokens(list(tgt[0].cpu().numpy()))).replace(\"<bos>\", \"\").replace(\"<eos>\", \"\"))\n",
    "        src = src.to(DEVICE)\n",
    "        tgt = tgt.to(DEVICE)\n",
    "                \n",
    "        tgt_input = tgt[:, :-1]\n",
    "        \n",
    "        src_mask, tgt_mask, src_padding_mask, tgt_padding_mask = create_mask(src, tgt_input)\n",
    "\n",
    "        logits = model(\n",
    "            src, \n",
    "            tgt_input, \n",
    "            src_mask, \n",
    "            tgt_mask,\n",
    "            src_padding_mask, \n",
    "            tgt_padding_mask, \n",
    "            src_padding_mask\n",
    "        )\n",
    "\n",
    "        optimizer.zero_grad()\n",
    "\n",
    "        tgt_out = tgt[:, 1:]\n",
    "        loss = loss_fn(logits.view(-1, TGT_VOCAB_SIZE), tgt_out.contiguous().view(-1))\n",
    "        loss.backward()\n",
    "\n",
    "        optimizer.step()\n",
    "        losses += loss.item()\n",
    "\n",
    "    return losses / len(list(train_dataloader))\n",
    "\n",
    "\n",
    "val_dataloader = DataLoader(valid_dataset, batch_size=BATCH_SIZE, collate_fn=collate_fn)\n",
    "def evaluate(model):\n",
    "    print('Validating')\n",
    "    model.eval()\n",
    "    losses = 0\n",
    "\n",
    "    for src, tgt in tqdm(val_dataloader, total=len(list(val_dataloader))):\n",
    "        # print(\" \".join(vocab_transform[SRC_LANGUAGE].lookup_tokens(list(src[0].cpu().numpy()))).replace(\"<bos>\", \"\").replace(\"<eos>\", \"\"))\n",
    "        # print(\" \".join(vocab_transform[TGT_LANGUAGE].lookup_tokens(list(tgt[0].cpu().numpy()))).replace(\"<bos>\", \"\").replace(\"<eos>\", \"\"))\n",
    "        src = src.to(DEVICE)\n",
    "        tgt = tgt.to(DEVICE)\n",
    "        \n",
    "        tgt_input = tgt[:, :-1]\n",
    "        \n",
    "        src_mask, tgt_mask, src_padding_mask, tgt_padding_mask = create_mask(src, tgt_input)\n",
    "        \n",
    "        logits = model(\n",
    "            src, \n",
    "            tgt_input, \n",
    "            src_mask, \n",
    "            tgt_mask,\n",
    "            src_padding_mask, \n",
    "            tgt_padding_mask, \n",
    "            src_padding_mask\n",
    "        )\n",
    "\n",
    "        tgt_out = tgt[:, 1:]\n",
    "        loss = loss_fn(logits.view(-1, TGT_VOCAB_SIZE), tgt_out.contiguous().view(-1))\n",
    "        losses += loss.item()\n",
    "\n",
    "    return losses / len(list(val_dataloader))"
   ]
  },
  {
   "cell_type": "code",
   "execution_count": 26,
   "id": "37e2e3c8-ef5d-44d0-a899-06ca245cbfc1",
   "metadata": {
    "scrolled": true
   },
   "outputs": [
    {
     "name": "stdout",
     "output_type": "stream",
     "text": [
      "Training\n"
     ]
    },
    {
     "name": "stderr",
     "output_type": "stream",
     "text": [
      "  0%|          | 0/2813 [00:00<?, ?it/s]/home/marwan/.local/lib/python3.10/site-packages/torch/nn/functional.py:5076: UserWarning: Support for mismatched key_padding_mask and attn_mask is deprecated. Use same type for both instead.\n",
      "  warnings.warn(\n",
      "100%|██████████| 2813/2813 [01:22<00:00, 34.13it/s]\n"
     ]
    },
    {
     "name": "stdout",
     "output_type": "stream",
     "text": [
      "Validating\n"
     ]
    },
    {
     "name": "stderr",
     "output_type": "stream",
     "text": [
      "100%|██████████| 313/313 [00:04<00:00, 66.75it/s]\n"
     ]
    },
    {
     "name": "stdout",
     "output_type": "stream",
     "text": [
      "Epoch: 1, Train loss: 5.186, Val loss: 4.711, Epoch time = 104.157s \n",
      "\n",
      "Training\n"
     ]
    },
    {
     "name": "stderr",
     "output_type": "stream",
     "text": [
      "100%|██████████| 2813/2813 [01:19<00:00, 35.21it/s]\n"
     ]
    },
    {
     "name": "stdout",
     "output_type": "stream",
     "text": [
      "Validating\n"
     ]
    },
    {
     "name": "stderr",
     "output_type": "stream",
     "text": [
      "100%|██████████| 313/313 [00:04<00:00, 73.13it/s]\n"
     ]
    },
    {
     "name": "stdout",
     "output_type": "stream",
     "text": [
      "Epoch: 2, Train loss: 4.574, Val loss: 4.504, Epoch time = 101.010s \n",
      "\n",
      "Training\n"
     ]
    },
    {
     "name": "stderr",
     "output_type": "stream",
     "text": [
      "100%|██████████| 2813/2813 [01:19<00:00, 35.49it/s]\n"
     ]
    },
    {
     "name": "stdout",
     "output_type": "stream",
     "text": [
      "Validating\n"
     ]
    },
    {
     "name": "stderr",
     "output_type": "stream",
     "text": [
      "100%|██████████| 313/313 [00:04<00:00, 74.67it/s]\n"
     ]
    },
    {
     "name": "stdout",
     "output_type": "stream",
     "text": [
      "Epoch: 3, Train loss: 4.385, Val loss: 4.419, Epoch time = 99.927s \n",
      "\n",
      "Training\n"
     ]
    },
    {
     "name": "stderr",
     "output_type": "stream",
     "text": [
      "100%|██████████| 2813/2813 [01:20<00:00, 35.08it/s]\n"
     ]
    },
    {
     "name": "stdout",
     "output_type": "stream",
     "text": [
      "Validating\n"
     ]
    },
    {
     "name": "stderr",
     "output_type": "stream",
     "text": [
      "100%|██████████| 313/313 [00:04<00:00, 72.68it/s]\n"
     ]
    },
    {
     "name": "stdout",
     "output_type": "stream",
     "text": [
      "Epoch: 4, Train loss: 4.265, Val loss: 4.365, Epoch time = 100.723s \n",
      "\n",
      "Training\n"
     ]
    },
    {
     "name": "stderr",
     "output_type": "stream",
     "text": [
      "100%|██████████| 2813/2813 [01:20<00:00, 34.78it/s]\n"
     ]
    },
    {
     "name": "stdout",
     "output_type": "stream",
     "text": [
      "Validating\n"
     ]
    },
    {
     "name": "stderr",
     "output_type": "stream",
     "text": [
      "100%|██████████| 313/313 [00:04<00:00, 72.43it/s]\n"
     ]
    },
    {
     "name": "stdout",
     "output_type": "stream",
     "text": [
      "Epoch: 5, Train loss: 4.179, Val loss: 4.327, Epoch time = 101.617s \n",
      "\n",
      "Training\n"
     ]
    },
    {
     "name": "stderr",
     "output_type": "stream",
     "text": [
      "100%|██████████| 2813/2813 [01:19<00:00, 35.52it/s]\n"
     ]
    },
    {
     "name": "stdout",
     "output_type": "stream",
     "text": [
      "Validating\n"
     ]
    },
    {
     "name": "stderr",
     "output_type": "stream",
     "text": [
      "100%|██████████| 313/313 [00:04<00:00, 73.55it/s]\n"
     ]
    },
    {
     "name": "stdout",
     "output_type": "stream",
     "text": [
      "Epoch: 6, Train loss: 4.114, Val loss: 4.294, Epoch time = 99.698s \n",
      "\n",
      "Training\n"
     ]
    },
    {
     "name": "stderr",
     "output_type": "stream",
     "text": [
      "100%|██████████| 2813/2813 [01:20<00:00, 35.15it/s]\n"
     ]
    },
    {
     "name": "stdout",
     "output_type": "stream",
     "text": [
      "Validating\n"
     ]
    },
    {
     "name": "stderr",
     "output_type": "stream",
     "text": [
      "100%|██████████| 313/313 [00:04<00:00, 72.62it/s]\n"
     ]
    },
    {
     "name": "stdout",
     "output_type": "stream",
     "text": [
      "Epoch: 7, Train loss: 4.055, Val loss: 4.267, Epoch time = 100.654s \n",
      "\n",
      "Training\n"
     ]
    },
    {
     "name": "stderr",
     "output_type": "stream",
     "text": [
      "100%|██████████| 2813/2813 [01:19<00:00, 35.44it/s]\n"
     ]
    },
    {
     "name": "stdout",
     "output_type": "stream",
     "text": [
      "Validating\n"
     ]
    },
    {
     "name": "stderr",
     "output_type": "stream",
     "text": [
      "100%|██████████| 313/313 [00:04<00:00, 72.95it/s]\n"
     ]
    },
    {
     "name": "stdout",
     "output_type": "stream",
     "text": [
      "Epoch: 8, Train loss: 4.006, Val loss: 4.240, Epoch time = 99.847s \n",
      "\n",
      "Training\n"
     ]
    },
    {
     "name": "stderr",
     "output_type": "stream",
     "text": [
      "100%|██████████| 2813/2813 [01:19<00:00, 35.48it/s]\n"
     ]
    },
    {
     "name": "stdout",
     "output_type": "stream",
     "text": [
      "Validating\n"
     ]
    },
    {
     "name": "stderr",
     "output_type": "stream",
     "text": [
      "100%|██████████| 313/313 [00:04<00:00, 69.13it/s]\n"
     ]
    },
    {
     "name": "stdout",
     "output_type": "stream",
     "text": [
      "Epoch: 9, Train loss: 3.962, Val loss: 4.224, Epoch time = 100.259s \n",
      "\n",
      "Training\n"
     ]
    },
    {
     "name": "stderr",
     "output_type": "stream",
     "text": [
      "100%|██████████| 2813/2813 [01:21<00:00, 34.68it/s]\n"
     ]
    },
    {
     "name": "stdout",
     "output_type": "stream",
     "text": [
      "Validating\n"
     ]
    },
    {
     "name": "stderr",
     "output_type": "stream",
     "text": [
      "100%|██████████| 313/313 [00:04<00:00, 71.11it/s]\n"
     ]
    },
    {
     "name": "stdout",
     "output_type": "stream",
     "text": [
      "Epoch: 10, Train loss: 3.921, Val loss: 4.190, Epoch time = 101.954s \n",
      "\n",
      "Training\n"
     ]
    },
    {
     "name": "stderr",
     "output_type": "stream",
     "text": [
      "100%|██████████| 2813/2813 [01:18<00:00, 35.93it/s]\n"
     ]
    },
    {
     "name": "stdout",
     "output_type": "stream",
     "text": [
      "Validating\n"
     ]
    },
    {
     "name": "stderr",
     "output_type": "stream",
     "text": [
      "100%|██████████| 313/313 [00:04<00:00, 73.65it/s]\n"
     ]
    },
    {
     "name": "stdout",
     "output_type": "stream",
     "text": [
      "Epoch: 11, Train loss: 3.881, Val loss: 4.166, Epoch time = 98.796s \n",
      "\n",
      "Training\n"
     ]
    },
    {
     "name": "stderr",
     "output_type": "stream",
     "text": [
      "100%|██████████| 2813/2813 [01:21<00:00, 34.56it/s]\n"
     ]
    },
    {
     "name": "stdout",
     "output_type": "stream",
     "text": [
      "Validating\n"
     ]
    },
    {
     "name": "stderr",
     "output_type": "stream",
     "text": [
      "100%|██████████| 313/313 [00:04<00:00, 73.29it/s]\n"
     ]
    },
    {
     "name": "stdout",
     "output_type": "stream",
     "text": [
      "Epoch: 12, Train loss: 3.847, Val loss: 4.144, Epoch time = 102.249s \n",
      "\n",
      "Training\n"
     ]
    },
    {
     "name": "stderr",
     "output_type": "stream",
     "text": [
      "100%|██████████| 2813/2813 [01:18<00:00, 35.76it/s]\n"
     ]
    },
    {
     "name": "stdout",
     "output_type": "stream",
     "text": [
      "Validating\n"
     ]
    },
    {
     "name": "stderr",
     "output_type": "stream",
     "text": [
      "100%|██████████| 313/313 [00:04<00:00, 75.16it/s]\n"
     ]
    },
    {
     "name": "stdout",
     "output_type": "stream",
     "text": [
      "Epoch: 13, Train loss: 3.813, Val loss: 4.127, Epoch time = 99.109s \n",
      "\n",
      "Training\n"
     ]
    },
    {
     "name": "stderr",
     "output_type": "stream",
     "text": [
      "100%|██████████| 2813/2813 [01:20<00:00, 35.01it/s]\n"
     ]
    },
    {
     "name": "stdout",
     "output_type": "stream",
     "text": [
      "Validating\n"
     ]
    },
    {
     "name": "stderr",
     "output_type": "stream",
     "text": [
      "100%|██████████| 313/313 [00:04<00:00, 70.60it/s]\n"
     ]
    },
    {
     "name": "stdout",
     "output_type": "stream",
     "text": [
      "Epoch: 14, Train loss: 3.780, Val loss: 4.096, Epoch time = 101.420s \n",
      "\n",
      "Training\n"
     ]
    },
    {
     "name": "stderr",
     "output_type": "stream",
     "text": [
      "100%|██████████| 2813/2813 [01:17<00:00, 36.11it/s]\n"
     ]
    },
    {
     "name": "stdout",
     "output_type": "stream",
     "text": [
      "Validating\n"
     ]
    },
    {
     "name": "stderr",
     "output_type": "stream",
     "text": [
      "100%|██████████| 313/313 [00:04<00:00, 68.98it/s]\n"
     ]
    },
    {
     "name": "stdout",
     "output_type": "stream",
     "text": [
      "Epoch: 15, Train loss: 3.749, Val loss: 4.072, Epoch time = 98.685s \n",
      "\n",
      "Training\n"
     ]
    },
    {
     "name": "stderr",
     "output_type": "stream",
     "text": [
      "100%|██████████| 2813/2813 [01:18<00:00, 35.68it/s]\n"
     ]
    },
    {
     "name": "stdout",
     "output_type": "stream",
     "text": [
      "Validating\n"
     ]
    },
    {
     "name": "stderr",
     "output_type": "stream",
     "text": [
      "100%|██████████| 313/313 [00:04<00:00, 72.41it/s]\n"
     ]
    },
    {
     "name": "stdout",
     "output_type": "stream",
     "text": [
      "Epoch: 16, Train loss: 3.721, Val loss: 4.062, Epoch time = 99.500s \n",
      "\n",
      "Training\n"
     ]
    },
    {
     "name": "stderr",
     "output_type": "stream",
     "text": [
      "100%|██████████| 2813/2813 [01:18<00:00, 35.79it/s]\n"
     ]
    },
    {
     "name": "stdout",
     "output_type": "stream",
     "text": [
      "Validating\n"
     ]
    },
    {
     "name": "stderr",
     "output_type": "stream",
     "text": [
      "100%|██████████| 313/313 [00:04<00:00, 73.47it/s]\n"
     ]
    },
    {
     "name": "stdout",
     "output_type": "stream",
     "text": [
      "Epoch: 17, Train loss: 3.694, Val loss: 4.038, Epoch time = 99.025s \n",
      "\n",
      "Training\n"
     ]
    },
    {
     "name": "stderr",
     "output_type": "stream",
     "text": [
      "100%|██████████| 2813/2813 [01:18<00:00, 35.87it/s]\n"
     ]
    },
    {
     "name": "stdout",
     "output_type": "stream",
     "text": [
      "Validating\n"
     ]
    },
    {
     "name": "stderr",
     "output_type": "stream",
     "text": [
      "100%|██████████| 313/313 [00:04<00:00, 73.60it/s]\n"
     ]
    },
    {
     "name": "stdout",
     "output_type": "stream",
     "text": [
      "Epoch: 18, Train loss: 3.670, Val loss: 4.027, Epoch time = 99.114s \n",
      "\n",
      "Training\n"
     ]
    },
    {
     "name": "stderr",
     "output_type": "stream",
     "text": [
      "100%|██████████| 2813/2813 [01:22<00:00, 34.01it/s]\n"
     ]
    },
    {
     "name": "stdout",
     "output_type": "stream",
     "text": [
      "Validating\n"
     ]
    },
    {
     "name": "stderr",
     "output_type": "stream",
     "text": [
      "100%|██████████| 313/313 [00:04<00:00, 72.57it/s]\n"
     ]
    },
    {
     "name": "stdout",
     "output_type": "stream",
     "text": [
      "Epoch: 19, Train loss: 3.649, Val loss: 4.011, Epoch time = 103.556s \n",
      "\n",
      "Training\n"
     ]
    },
    {
     "name": "stderr",
     "output_type": "stream",
     "text": [
      "100%|██████████| 2813/2813 [01:19<00:00, 35.34it/s]\n"
     ]
    },
    {
     "name": "stdout",
     "output_type": "stream",
     "text": [
      "Validating\n"
     ]
    },
    {
     "name": "stderr",
     "output_type": "stream",
     "text": [
      "100%|██████████| 313/313 [00:04<00:00, 68.97it/s]\n"
     ]
    },
    {
     "name": "stdout",
     "output_type": "stream",
     "text": [
      "Epoch: 20, Train loss: 3.626, Val loss: 3.995, Epoch time = 101.287s \n",
      "\n"
     ]
    }
   ],
   "source": [
    "train_loss_list, valid_loss_list = [], []\n",
    "for epoch in range(1, NUM_EPOCHS+1):\n",
    "    start_time = timer()\n",
    "    train_loss = train_epoch(model, optimizer)\n",
    "    valid_loss = evaluate(model)\n",
    "    end_time = timer()\n",
    "    train_loss_list.append(train_loss)\n",
    "    valid_loss_list.append(valid_loss)\n",
    "    print((f\"Epoch: {epoch}, Train loss: {train_loss:.3f}, Val loss: {valid_loss:.3f}, \"f\"Epoch time = {(end_time - start_time):.3f}s \\n\"))"
   ]
  },
  {
   "cell_type": "markdown",
   "id": "c6a4cde9-f081-4235-b4b9-131fc3f91af2",
   "metadata": {},
   "source": [
    "## Plots"
   ]
  },
  {
   "cell_type": "code",
   "execution_count": 27,
   "id": "260658d4-8581-4aea-9eaf-56f4233bf776",
   "metadata": {},
   "outputs": [],
   "source": [
    "def save_plots(train_loss, valid_loss):\n",
    "    \"\"\"\n",
    "    Function to save the loss plots to disk.\n",
    "    \"\"\"\n",
    "    # Loss plots.\n",
    "    plt.figure(figsize=(10, 7))\n",
    "    plt.plot(\n",
    "        train_loss, color='blue', linestyle='-', \n",
    "        label='train loss'\n",
    "    )\n",
    "    plt.plot(\n",
    "        valid_loss, color='red', linestyle='-', \n",
    "        label='validataion loss'\n",
    "    )\n",
    "    plt.xlabel('Epochs')\n",
    "    plt.ylabel('Loss')\n",
    "    plt.legend()\n",
    "    plt.show()"
   ]
  },
  {
   "cell_type": "code",
   "execution_count": 28,
   "id": "18cef44c-314c-41dc-955f-f9341860314a",
   "metadata": {},
   "outputs": [
    {
     "data": {
      "image/png": "[encoded data removed]",
      "text/plain": [
       "<Figure size 1000x700 with 1 Axes>"
      ]
     },
     "metadata": {},
     "output_type": "display_data"
    }
   ],
   "source": [
    "save_plots(train_loss_list, valid_loss_list)"
   ]
  },
  {
   "cell_type": "markdown",
   "id": "59f08339-5fb4-446d-9c16-1ab798949b12",
   "metadata": {},
   "source": [
    "## Save Model"
   ]
  },
  {
   "cell_type": "code",
   "execution_count": 29,
   "id": "bf0fd84e-f73e-460e-9f4e-05c8d0932ac9",
   "metadata": {},
   "outputs": [],
   "source": [
    "torch.save(model, '../models/eng_fr_nn_transformer.pth')"
   ]
  },
  {
   "cell_type": "markdown",
   "id": "a234c9da-ead0-424e-afb3-785bcca2708b",
   "metadata": {},
   "source": [
    "## Inference"
   ]
  },
  {
   "cell_type": "code",
   "execution_count": 15,
   "id": "4ba2e343-e7c9-4a96-ad46-ae2f446cc47b",
   "metadata": {},
   "outputs": [
    {
     "ename": "FileNotFoundError",
     "evalue": "[Errno 2] No such file or directory: '../models/eng_fr_nn_transformer.pth'",
     "output_type": "error",
     "traceback": [
      "\u001b[0;31m---------------------------------------------------------------------------\u001b[0m",
      "\u001b[0;31mFileNotFoundError\u001b[0m                         Traceback (most recent call last)",
      "\u001b[1;32m/home/marwan/Github/text-to-text-translation/notebooks/eng_fr_nn_transformer.ipynb Cell 40\u001b[0m line \u001b[0;36m1\n\u001b[0;32m----> <a href='vscode-notebook-cell://wsl%2Bubuntu/home/marwan/Github/text-to-text-translation/notebooks/eng_fr_nn_transformer.ipynb#X54sdnNjb2RlLXJlbW90ZQ%3D%3D?line=0'>1</a>\u001b[0m model \u001b[39m=\u001b[39m torch\u001b[39m.\u001b[39;49mload(\u001b[39m'\u001b[39;49m\u001b[39m../models/eng_fr_nn_transformer.pth\u001b[39;49m\u001b[39m'\u001b[39;49m)\n",
      "File \u001b[0;32m~/.local/lib/python3.10/site-packages/torch/serialization.py:986\u001b[0m, in \u001b[0;36mload\u001b[0;34m(f, map_location, pickle_module, weights_only, mmap, **pickle_load_args)\u001b[0m\n\u001b[1;32m    983\u001b[0m \u001b[39mif\u001b[39;00m \u001b[39m'\u001b[39m\u001b[39mencoding\u001b[39m\u001b[39m'\u001b[39m \u001b[39mnot\u001b[39;00m \u001b[39min\u001b[39;00m pickle_load_args\u001b[39m.\u001b[39mkeys():\n\u001b[1;32m    984\u001b[0m     pickle_load_args[\u001b[39m'\u001b[39m\u001b[39mencoding\u001b[39m\u001b[39m'\u001b[39m] \u001b[39m=\u001b[39m \u001b[39m'\u001b[39m\u001b[39mutf-8\u001b[39m\u001b[39m'\u001b[39m\n\u001b[0;32m--> 986\u001b[0m \u001b[39mwith\u001b[39;00m _open_file_like(f, \u001b[39m'\u001b[39;49m\u001b[39mrb\u001b[39;49m\u001b[39m'\u001b[39;49m) \u001b[39mas\u001b[39;00m opened_file:\n\u001b[1;32m    987\u001b[0m     \u001b[39mif\u001b[39;00m _is_zipfile(opened_file):\n\u001b[1;32m    988\u001b[0m         \u001b[39m# The zipfile reader is going to advance the current file position.\u001b[39;00m\n\u001b[1;32m    989\u001b[0m         \u001b[39m# If we want to actually tail call to torch.jit.load, we need to\u001b[39;00m\n\u001b[1;32m    990\u001b[0m         \u001b[39m# reset back to the original position.\u001b[39;00m\n\u001b[1;32m    991\u001b[0m         orig_position \u001b[39m=\u001b[39m opened_file\u001b[39m.\u001b[39mtell()\n",
      "File \u001b[0;32m~/.local/lib/python3.10/site-packages/torch/serialization.py:435\u001b[0m, in \u001b[0;36m_open_file_like\u001b[0;34m(name_or_buffer, mode)\u001b[0m\n\u001b[1;32m    433\u001b[0m \u001b[39mdef\u001b[39;00m \u001b[39m_open_file_like\u001b[39m(name_or_buffer, mode):\n\u001b[1;32m    434\u001b[0m     \u001b[39mif\u001b[39;00m _is_path(name_or_buffer):\n\u001b[0;32m--> 435\u001b[0m         \u001b[39mreturn\u001b[39;00m _open_file(name_or_buffer, mode)\n\u001b[1;32m    436\u001b[0m     \u001b[39melse\u001b[39;00m:\n\u001b[1;32m    437\u001b[0m         \u001b[39mif\u001b[39;00m \u001b[39m'\u001b[39m\u001b[39mw\u001b[39m\u001b[39m'\u001b[39m \u001b[39min\u001b[39;00m mode:\n",
      "File \u001b[0;32m~/.local/lib/python3.10/site-packages/torch/serialization.py:416\u001b[0m, in \u001b[0;36m_open_file.__init__\u001b[0;34m(self, name, mode)\u001b[0m\n\u001b[1;32m    415\u001b[0m \u001b[39mdef\u001b[39;00m \u001b[39m__init__\u001b[39m(\u001b[39mself\u001b[39m, name, mode):\n\u001b[0;32m--> 416\u001b[0m     \u001b[39msuper\u001b[39m()\u001b[39m.\u001b[39m\u001b[39m__init__\u001b[39m(\u001b[39mopen\u001b[39;49m(name, mode))\n",
      "\u001b[0;31mFileNotFoundError\u001b[0m: [Errno 2] No such file or directory: '../models/eng_fr_nn_transformer.pth'"
     ]
    }
   ],
   "source": [
    "model = torch.load('../models/eng_fr_nn_transformer.pth')"
   ]
  },
  {
   "cell_type": "code",
   "execution_count": 31,
   "id": "695bae34-3e17-4a70-afe5-7cddcffd8165",
   "metadata": {},
   "outputs": [],
   "source": [
    "# Helper function to generate output sequence using greedy algorithm.\n",
    "def greedy_decode(model, src, src_mask, max_len, start_symbol):\n",
    "    src = src.to(DEVICE)\n",
    "    src_mask = src_mask.to(DEVICE)\n",
    "\n",
    "    memory = model.encode(src, src_mask)\n",
    "    ys = torch.ones(1, 1).fill_(start_symbol).type(torch.long).to(DEVICE)\n",
    "    for i in range(max_len-1):\n",
    "        memory = memory.to(DEVICE)\n",
    "        if i == 0:\n",
    "            ys = ys.transpose(1, 0)\n",
    "        tgt_mask = (generate_square_subsequent_mask(ys.size(1))\n",
    "                    .type(torch.bool)).to(DEVICE)\n",
    "        out = model.decode(ys, memory, tgt_mask)\n",
    "        out = out\n",
    "        prob = model.generator(out[:, -1])\n",
    "        _, next_word = torch.max(prob, dim=1)\n",
    "        next_word = next_word.item()\n",
    "        ys = torch.cat([ys,\n",
    "                        torch.ones(1, 1).type_as(src.data).fill_(next_word)], dim=1)\n",
    "        if next_word == EOS_IDX:\n",
    "            break\n",
    "    return ys\n",
    "\n",
    "# Translation function. \n",
    "def translate(model: torch.nn.Module, src_sentence: str):\n",
    "    model.eval()\n",
    "    src = text_transform[SRC_LANGUAGE](src_sentence).view(1, -1)\n",
    "    num_tokens = src.shape[1]\n",
    "    src_mask = (torch.zeros(num_tokens, num_tokens)).type(torch.bool)\n",
    "    tgt_tokens = greedy_decode(\n",
    "        model,  src, src_mask, max_len=num_tokens + 5, start_symbol=BOS_IDX).flatten()\n",
    "    return \" \".join(vocab_transform[TGT_LANGUAGE].lookup_tokens(list(tgt_tokens.cpu().numpy()))).replace(\"<bos>\", \"\").replace(\"<eos>\", \"\")"
   ]
  },
  {
   "cell_type": "code",
   "execution_count": 32,
   "id": "d2f7b9b5-f872-4a16-9ffc-e60b078e64d8",
   "metadata": {},
   "outputs": [],
   "source": [
    "# SRC, GT pairs from the validation set.\n",
    "infer_sentences = [\n",
    "    [\"Take a seat.\", \"Prends place !\"],\n",
    "    [\"I'm not scared to die\", \"Je ne crains pas de mourir.\"],\n",
    "    [\"You'd better make sure that it is true.\", \"Tu ferais bien de t'assurer que c'est vrai.\"],\n",
    "    [\"The clock has stopped.\", \"L'horloge s'est arrêtée.\"],\n",
    "    [\"Take any two cards you like.\", \"Prends deux cartes de ton choix.\"]\n",
    "]"
   ]
  },
  {
   "cell_type": "code",
   "execution_count": 6,
   "id": "b2ea41b6",
   "metadata": {},
   "outputs": [
    {
     "ename": "NameError",
     "evalue": "name 'translate' is not defined",
     "output_type": "error",
     "traceback": [
      "\u001b[0;31m---------------------------------------------------------------------------\u001b[0m",
      "\u001b[0;31mNameError\u001b[0m                                 Traceback (most recent call last)",
      "\u001b[1;32m/home/marwan/Github/text-to-text-translation/notebooks/eng_fr_nn_transformer.ipynb Cell 43\u001b[0m line \u001b[0;36m2\n\u001b[1;32m      <a href='vscode-notebook-cell://wsl%2Bubuntu/home/marwan/Github/text-to-text-translation/notebooks/eng_fr_nn_transformer.ipynb#Y101sdnNjb2RlLXJlbW90ZQ%3D%3D?line=0'>1</a>\u001b[0m sentence \u001b[39m=\u001b[39m \u001b[39m\"\u001b[39m\u001b[39mThe big, red apple fell from the tree and rolled down the hill, making a funny sound as it went. Kids nearby giggled and raced to catch it. The sun shone brightly, warming everyone\u001b[39m\u001b[39m'\u001b[39m\u001b[39ms faces, while birds chirped happily in the background.\u001b[39m\u001b[39m\"\u001b[39m\n\u001b[0;32m----> <a href='vscode-notebook-cell://wsl%2Bubuntu/home/marwan/Github/text-to-text-translation/notebooks/eng_fr_nn_transformer.ipynb#Y101sdnNjb2RlLXJlbW90ZQ%3D%3D?line=1'>2</a>\u001b[0m translate(model, [sentence])\n",
      "\u001b[0;31mNameError\u001b[0m: name 'translate' is not defined"
     ]
    }
   ],
   "source": [
    "sentence = \"The big, red apple fell from the tree and rolled down the hill, making a funny sound as it went. Kids nearby giggled and raced to catch it. The sun shone brightly, warming everyone's faces, while birds chirped happily in the background.\"\n",
    "translate(model, [sentence])"
   ]
  },
  {
   "cell_type": "code",
   "execution_count": 33,
   "id": "2710788b-95e3-438a-b869-58927b94ac5c",
   "metadata": {},
   "outputs": [
    {
     "name": "stdout",
     "output_type": "stream",
     "text": [
      "SRC: Take a seat.\n",
      "GT: Prends place !\n",
      "PRED:  < start > la journaliste de la journaliste de la\n",
      "\n",
      "SRC: I'm not scared to die\n",
      "GT: Je ne crains pas de mourir.\n",
      "PRED:  < start > la meme si les membres de la police n'\n",
      "\n",
      "SRC: You'd better make sure that it is true.\n",
      "GT: Tu ferais bien de t'assurer que c'est vrai.\n",
      "PRED:  < start > il est important que si que les autres pensent que les russes les\n",
      "\n",
      "SRC: The clock has stopped.\n",
      "GT: L'horloge s'est arrêtée.\n",
      "PRED:  < start > la journaliste de la journaliste a explique que\n",
      "\n",
      "SRC: Take any two cards you like.\n",
      "GT: Prends deux cartes de ton choix.\n",
      "PRED:  < start > vous etes deux comme vous etes deux comme vous etes\n",
      "\n"
     ]
    }
   ],
   "source": [
    "for sentence in infer_sentences:\n",
    "    print(f\"SRC: {sentence[0]}\")\n",
    "    print(f\"GT: {sentence[1]}\")\n",
    "    print(f\"PRED: {translate(model, sentence[0])}\\n\")"
   ]
  },
  {
   "cell_type": "code",
   "execution_count": 34,
   "id": "771eb978",
   "metadata": {},
   "outputs": [
    {
     "name": "stderr",
     "output_type": "stream",
     "text": [
      "100%|██████████| 5000/5000 [08:22<00:00,  9.96it/s]\n"
     ]
    }
   ],
   "source": [
    "from tqdm import tqdm\n",
    "data = []\n",
    "\n",
    "references = []\n",
    "candidates = []\n",
    "\n",
    "for i in tqdm(range(len(test_csv))):\n",
    "    context = test_csv['en'].iloc[i]\n",
    "    reference = test_csv['fr'].iloc[i]\n",
    "    candidate = translate(model, test_csv['en'].iloc[i])\n",
    "    \n",
    "    data.append({\n",
    "        'Context': context,\n",
    "        'Reference': reference,\n",
    "        'Candidate': candidate,\n",
    "        'length': len(context.split())\n",
    "    })\n",
    "    \n",
    "    references.append([reference])\n",
    "    candidates.append(candidate)"
   ]
  },
  {
   "cell_type": "code",
   "execution_count": 35,
   "id": "f2c80a6b",
   "metadata": {},
   "outputs": [
    {
     "name": "stdout",
     "output_type": "stream",
     "text": [
      "dataset_1_5: 78 samples\n",
      "dataset_6_10: 840 samples\n",
      "dataset_11_15: 887 samples\n",
      "dataset_16_20: 929 samples\n",
      "dataset_21_30: 2266 samples\n",
      "dataset_31_40: 0 samples\n",
      "dataset_41_60: 0 samples\n",
      "dataset_61_inf: 0 samples\n"
     ]
    }
   ],
   "source": [
    "# split into small dataset based on the sentences length\n",
    "length_ranges = [(1, 5), (6, 10), (11, 15), (16, 20), (21, 30), (31, 40), (41, 60), (61, float('inf'))]\n",
    "\n",
    "small_datasets = {}\n",
    "for min_len, max_len in length_ranges:\n",
    "    filtered_examples = [example for example in data if example['length'] >= min_len and example['length'] <= max_len]\n",
    "    small_datasets[f'dataset_{min_len}_{max_len}'] = filtered_examples\n",
    "\n",
    "samples_per_range = []\n",
    "for key, dataset in small_datasets.items():\n",
    "    samples_per_range.append(len(dataset))\n",
    "    print(f\"{key}: {len(dataset)} samples\")"
   ]
  },
  {
   "cell_type": "code",
   "execution_count": 36,
   "id": "cedbd805",
   "metadata": {},
   "outputs": [],
   "source": [
    "from nltk.translate.bleu_score import corpus_bleu\n",
    "\n",
    "def compute_corpus_bleu(references, candidates):\n",
    "    if len(references) != len(candidates):\n",
    "        raise ValueError('The number of references and candidates must be the same :', len(references), len(candidates))\n",
    "    \n",
    "    if len(references) == 0: return 0.0\n",
    "    \n",
    "    reference_tokens = [[ref] for ref in references]\n",
    "    return corpus_bleu(reference_tokens, candidates)"
   ]
  },
  {
   "cell_type": "code",
   "execution_count": 37,
   "id": "8cf1efe1",
   "metadata": {},
   "outputs": [
    {
     "name": "stdout",
     "output_type": "stream",
     "text": [
      "dataset_1_5: 0.3034\n",
      "dataset_6_10: 0.3532\n",
      "dataset_11_15: 0.3545\n",
      "dataset_16_20: 0.3467\n",
      "dataset_21_30: 0.3416\n",
      "dataset_31_40: 0.0000\n",
      "dataset_41_60: 0.0000\n",
      "dataset_61_inf: 0.0000\n"
     ]
    }
   ],
   "source": [
    "bleu_scores = []\n",
    "for key, dataset in small_datasets.items():\n",
    "    refs = [example['Reference'] for example in dataset]\n",
    "    cands = [example['Candidate'] for example in dataset]\n",
    "    \n",
    "    corpus_bleu_score = compute_corpus_bleu(refs, cands)\n",
    "    bleu_scores.append(corpus_bleu_score)\n",
    "    \n",
    "    print(f\"{key}: {corpus_bleu_score:.4f}\")"
   ]
  },
  {
   "cell_type": "code",
   "execution_count": 38,
   "id": "bfb8b0c6",
   "metadata": {},
   "outputs": [
    {
     "data": {
      "text/plain": [
       "0.3466771030416517"
      ]
     },
     "execution_count": 38,
     "metadata": {},
     "output_type": "execute_result"
    }
   ],
   "source": [
    "overall_bleu_score = corpus_bleu(references, candidates)\n",
    "overall_bleu_score"
   ]
  },
  {
   "cell_type": "code",
   "execution_count": 5,
   "id": "a8a87a62",
   "metadata": {},
   "outputs": [
    {
     "data": {
      "image/png": "[encoded data removed]",
      "text/plain": [
       "<Figure size 1500x700 with 1 Axes>"
      ]
     },
     "metadata": {},
     "output_type": "display_data"
    }
   ],
   "source": [
    "import matplotlib.patches as mpatches\n",
    "import matplotlib.pyplot as plt\n",
    "plt.figure(figsize=(15, 7))\n",
    "\n",
    "colors = ['b', 'g', 'r', 'c', 'm', 'y', 'k']  # List of colors for each bar\n",
    "bar_plot = plt.bar([f'{start}-{end}' for start, end in length_ranges], bleu_scores, color=colors, alpha=0.7, label='BLEU Score')\n",
    "\n",
    "# Add \"All\" bar with legend\n",
    "all_bar = plt.bar(\"All\", overall_bleu_score, color='k', alpha=0.7)\n",
    "\n",
    "# Create a dummy handle for the \"All\" bar\n",
    "all_patch = mpatches.Patch(color='k', label=f'Sample = {len(candidates)}')\n",
    "legend_labels = [f'Sample = {value}' for value in samples_per_range]\n",
    "\n",
    "# Include the dummy handle in the legend\n",
    "plt.legend(handles=[*bar_plot, all_patch], labels=legend_labels + [f'Sample = {len(candidates)}'], loc='upper right', title='Samples per range')\n",
    "\n",
    "plt.xlabel('Word Count Range')\n",
    "plt.ylabel('BLEU Score')\n",
    "\n",
    "plt.title('BLEU Score and Number of Samples Based on Word Count Range')\n",
    "\n",
    "plt.show()"
   ]
  }
 ],
 "metadata": {
  "kernelspec": {
   "display_name": "Python 3 (ipykernel)",
   "language": "python",
   "name": "python3"
  },
  "language_info": {
   "codemirror_mode": {
    "name": "ipython",
    "version": 3
   },
   "file_extension": ".py",
   "mimetype": "text/x-python",
   "name": "python",
   "nbconvert_exporter": "python",
   "pygments_lexer": "ipython3",
   "version": "3.10.12"
  }
 },
 "nbformat": 4,
 "nbformat_minor": 5
}
