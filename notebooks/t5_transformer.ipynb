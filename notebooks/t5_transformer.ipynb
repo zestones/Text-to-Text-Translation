{
 "cells": [
  {
   "cell_type": "code",
   "execution_count": 1,
   "metadata": {},
   "outputs": [],
   "source": [
    "%load_ext autoreload\n",
    "%aimport utils.text_processing\n",
    "%autoreload 1"
   ]
  },
  {
   "cell_type": "code",
   "execution_count": 2,
   "metadata": {},
   "outputs": [
    {
     "name": "stderr",
     "output_type": "stream",
     "text": [
      "/home/marwan/.local/lib/python3.10/site-packages/tqdm/auto.py:21: TqdmWarning: IProgress not found. Please update jupyter and ipywidgets. See https://ipywidgets.readthedocs.io/en/stable/user_install.html\n",
      "  from .autonotebook import tqdm as notebook_tqdm\n",
      "2024-01-24 20:14:38.994145: E external/local_xla/xla/stream_executor/cuda/cuda_dnn.cc:9261] Unable to register cuDNN factory: Attempting to register factory for plugin cuDNN when one has already been registered\n",
      "2024-01-24 20:14:38.994204: E external/local_xla/xla/stream_executor/cuda/cuda_fft.cc:607] Unable to register cuFFT factory: Attempting to register factory for plugin cuFFT when one has already been registered\n",
      "2024-01-24 20:14:39.039323: E external/local_xla/xla/stream_executor/cuda/cuda_blas.cc:1515] Unable to register cuBLAS factory: Attempting to register factory for plugin cuBLAS when one has already been registered\n",
      "2024-01-24 20:14:39.122519: I tensorflow/core/platform/cpu_feature_guard.cc:182] This TensorFlow binary is optimized to use available CPU instructions in performance-critical operations.\n",
      "To enable the following instructions: AVX2 FMA, in other operations, rebuild TensorFlow with the appropriate compiler flags.\n",
      "2024-01-24 20:14:40.398172: W tensorflow/compiler/tf2tensorrt/utils/py_utils.cc:38] TF-TRT Warning: Could not find TensorRT\n"
     ]
    }
   ],
   "source": [
    "from datasets import load_dataset\n",
    "from datasets import Dataset\n",
    "\n",
    "from utils.text_processing import TextProcessor\n",
    "\n",
    "from transformers import AutoModelForSeq2SeqLM, Seq2SeqTrainingArguments, Seq2SeqTrainer\n",
    "from sklearn.model_selection import train_test_split\n",
    "from transformers import DataCollatorForSeq2Seq\n",
    "from transformers import AutoTokenizer\n",
    "\n",
    "import pandas as pd\n",
    "import numpy as np\n",
    "import evaluate"
   ]
  },
  {
   "cell_type": "code",
   "execution_count": 3,
   "metadata": {},
   "outputs": [
    {
     "data": {
      "text/html": [
       "<div>\n",
       "<style scoped>\n",
       "    .dataframe tbody tr th:only-of-type {\n",
       "        vertical-align: middle;\n",
       "    }\n",
       "\n",
       "    .dataframe tbody tr th {\n",
       "        vertical-align: top;\n",
       "    }\n",
       "\n",
       "    .dataframe thead th {\n",
       "        text-align: right;\n",
       "    }\n",
       "</style>\n",
       "<table border=\"1\" class=\"dataframe\">\n",
       "  <thead>\n",
       "    <tr style=\"text-align: right;\">\n",
       "      <th></th>\n",
       "      <th>en</th>\n",
       "      <th>fr</th>\n",
       "    </tr>\n",
       "  </thead>\n",
       "  <tbody>\n",
       "    <tr>\n",
       "      <th>0</th>\n",
       "      <td>&lt;start&gt; jamaica i am hiv &lt;end&gt;</td>\n",
       "      <td>&lt;start&gt; jamaique jai le vih &lt;end&gt;</td>\n",
       "    </tr>\n",
       "    <tr>\n",
       "      <th>1</th>\n",
       "      <td>&lt;start&gt; it is widely acknowledged in the carib...</td>\n",
       "      <td>&lt;start&gt; il est largement reconnu dans les cara...</td>\n",
       "    </tr>\n",
       "    <tr>\n",
       "      <th>2</th>\n",
       "      <td>&lt;start&gt; for this woman however photographed in...</td>\n",
       "      <td>&lt;start&gt; pour cette femme cependant photographi...</td>\n",
       "    </tr>\n",
       "    <tr>\n",
       "      <th>3</th>\n",
       "      <td>&lt;start&gt; as bacon writes on her blog &lt;end&gt;</td>\n",
       "      <td>&lt;start&gt; comme bacon ecrit sur son blog &lt;end&gt;</td>\n",
       "    </tr>\n",
       "    <tr>\n",
       "      <th>4</th>\n",
       "      <td>&lt;start&gt; when i asked to take her picture i sug...</td>\n",
       "      <td>&lt;start&gt; quand je lui ai demande de la prendre ...</td>\n",
       "    </tr>\n",
       "    <tr>\n",
       "      <th>5</th>\n",
       "      <td>&lt;start&gt; nah man she replied &lt;end&gt;</td>\n",
       "      <td>&lt;start&gt; nah man elle a repondu &lt;end&gt;</td>\n",
       "    </tr>\n",
       "    <tr>\n",
       "      <th>6</th>\n",
       "      <td>&lt;start&gt; p'haps udda people learn from my mista...</td>\n",
       "      <td>&lt;start&gt; p'etre que des personnes apprendront d...</td>\n",
       "    </tr>\n",
       "    <tr>\n",
       "      <th>7</th>\n",
       "      <td>&lt;start&gt; when i showed her the picture she smil...</td>\n",
       "      <td>&lt;start&gt; quand je lui ai montre la photo elle a...</td>\n",
       "    </tr>\n",
       "    <tr>\n",
       "      <th>8</th>\n",
       "      <td>&lt;start&gt; boy that is an ugly face the caribbean...</td>\n",
       "      <td>&lt;start&gt; la caraibe vient en seconde position s...</td>\n",
       "    </tr>\n",
       "    <tr>\n",
       "      <th>9</th>\n",
       "      <td>&lt;start&gt; at the end of it was estimated that pe...</td>\n",
       "      <td>&lt;start&gt; a la fin de on a estime que personnes ...</td>\n",
       "    </tr>\n",
       "  </tbody>\n",
       "</table>\n",
       "</div>"
      ],
      "text/plain": [
       "                                                  en  \\\n",
       "0                     <start> jamaica i am hiv <end>   \n",
       "1  <start> it is widely acknowledged in the carib...   \n",
       "2  <start> for this woman however photographed in...   \n",
       "3          <start> as bacon writes on her blog <end>   \n",
       "4  <start> when i asked to take her picture i sug...   \n",
       "5                  <start> nah man she replied <end>   \n",
       "6  <start> p'haps udda people learn from my mista...   \n",
       "7  <start> when i showed her the picture she smil...   \n",
       "8  <start> boy that is an ugly face the caribbean...   \n",
       "9  <start> at the end of it was estimated that pe...   \n",
       "\n",
       "                                                  fr  \n",
       "0                  <start> jamaique jai le vih <end>  \n",
       "1  <start> il est largement reconnu dans les cara...  \n",
       "2  <start> pour cette femme cependant photographi...  \n",
       "3       <start> comme bacon ecrit sur son blog <end>  \n",
       "4  <start> quand je lui ai demande de la prendre ...  \n",
       "5               <start> nah man elle a repondu <end>  \n",
       "6  <start> p'etre que des personnes apprendront d...  \n",
       "7  <start> quand je lui ai montre la photo elle a...  \n",
       "8  <start> la caraibe vient en seconde position s...  \n",
       "9  <start> a la fin de on a estime que personnes ...  "
      ]
     },
     "execution_count": 3,
     "metadata": {},
     "output_type": "execute_result"
    }
   ],
   "source": [
    "dataset = load_dataset(\"Nicolas-BZRD/Parallel_Global_Voices_English_French\", split='train').to_pandas()\n",
    "\n",
    "dataset['en'] = TextProcessor(dataset, 'en').transform()\n",
    "dataset['fr'] = TextProcessor(dataset, 'fr').transform()\n",
    "\n",
    "dataset.head(10)"
   ]
  },
  {
   "cell_type": "code",
   "execution_count": 4,
   "metadata": {},
   "outputs": [],
   "source": [
    "train_data, test_data = train_test_split(dataset, test_size=0.2, random_state=42)"
   ]
  },
  {
   "cell_type": "code",
   "execution_count": 5,
   "metadata": {},
   "outputs": [],
   "source": [
    "def transform_dataset_format(dataframe, source_language, target_language, key_name):\n",
    "    new_format = []\n",
    "    \n",
    "    for idx, row in dataframe.iterrows():\n",
    "        example = {\n",
    "            'id': str(idx),\n",
    "            'translation': {\n",
    "                source_language: row[source_language],\n",
    "                target_language: row[target_language]\n",
    "            }\n",
    "        }\n",
    "        new_format.append(example)\n",
    "    \n",
    "    return Dataset.from_pandas(pd.DataFrame(new_format))"
   ]
  },
  {
   "cell_type": "code",
   "execution_count": 6,
   "metadata": {},
   "outputs": [],
   "source": [
    "train_data = transform_dataset_format(train_data, 'en', 'fr', 'train')\n",
    "test_data = transform_dataset_format(test_data, 'en', 'fr', 'test')"
   ]
  },
  {
   "cell_type": "code",
   "execution_count": 7,
   "metadata": {},
   "outputs": [
    {
     "data": {
      "text/plain": [
       "{'id': '338276',\n",
       " 'translation': {'en': '<start> and how do the two competing forces compare in their social media presence <end>',\n",
       "  'fr': '<start> et comment les deux forces concurrentes comparent-elles leur presence dans les medias sociaux <end>'}}"
      ]
     },
     "execution_count": 7,
     "metadata": {},
     "output_type": "execute_result"
    }
   ],
   "source": [
    "train_data[0]"
   ]
  },
  {
   "cell_type": "code",
   "execution_count": 8,
   "metadata": {},
   "outputs": [],
   "source": [
    "checkpoint = \"t5-small\"\n",
    "tokenizer = AutoTokenizer.from_pretrained(checkpoint)"
   ]
  },
  {
   "cell_type": "code",
   "execution_count": 9,
   "metadata": {},
   "outputs": [],
   "source": [
    "source_lang = \"en\"\n",
    "target_lang = \"fr\"\n",
    "prefix = \"translate English to French: \"\n",
    "\n",
    "def preprocess_function(examples):\n",
    "    inputs = [prefix + example[source_lang] for example in examples[\"translation\"]]\n",
    "    targets = [example[target_lang] for example in examples[\"translation\"]]\n",
    "    model_inputs = tokenizer(inputs, text_target=targets, max_length=128, truncation=True)\n",
    "    return model_inputs"
   ]
  },
  {
   "cell_type": "code",
   "execution_count": 10,
   "metadata": {},
   "outputs": [
    {
     "name": "stderr",
     "output_type": "stream",
     "text": [
      "Map: 100%|██████████| 273648/273648 [00:14<00:00, 18400.97 examples/s]\n",
      "Map: 100%|██████████| 68412/68412 [00:03<00:00, 17429.83 examples/s]\n"
     ]
    }
   ],
   "source": [
    "tokenized_train_data = train_data.map(preprocess_function, batched=True)\n",
    "tokenized_test_data = test_data.map(preprocess_function, batched=True)"
   ]
  },
  {
   "cell_type": "code",
   "execution_count": 11,
   "metadata": {},
   "outputs": [],
   "source": [
    "data_collator = DataCollatorForSeq2Seq(tokenizer=tokenizer, model=checkpoint)"
   ]
  },
  {
   "cell_type": "code",
   "execution_count": 12,
   "metadata": {},
   "outputs": [],
   "source": [
    "metric = evaluate.load(\"sacrebleu\")"
   ]
  },
  {
   "cell_type": "code",
   "execution_count": 13,
   "metadata": {},
   "outputs": [],
   "source": [
    "def postprocess_text(preds, labels):\n",
    "    preds = [pred.strip() for pred in preds]\n",
    "    labels = [[label.strip()] for label in labels]\n",
    "\n",
    "    return preds, labels\n",
    "\n",
    "def compute_metrics(eval_preds):\n",
    "    preds, labels = eval_preds\n",
    "    if isinstance(preds, tuple):\n",
    "        preds = preds[0]\n",
    "    decoded_preds = tokenizer.batch_decode(preds, skip_special_tokens=True)\n",
    "\n",
    "    labels = np.where(labels != -100, labels, tokenizer.pad_token_id)\n",
    "    decoded_labels = tokenizer.batch_decode(labels, skip_special_tokens=True)\n",
    "\n",
    "    decoded_preds, decoded_labels = postprocess_text(decoded_preds, decoded_labels)\n",
    "\n",
    "    result = metric.compute(predictions=decoded_preds, references=decoded_labels)\n",
    "    result = {\"bleu\": result[\"score\"]}\n",
    "\n",
    "    prediction_lens = [np.count_nonzero(pred != tokenizer.pad_token_id) for pred in preds]\n",
    "    result[\"gen_len\"] = np.mean(prediction_lens)\n",
    "    result = {k: round(v, 4) for k, v in result.items()}\n",
    "    return result"
   ]
  },
  {
   "cell_type": "code",
   "execution_count": 14,
   "metadata": {},
   "outputs": [],
   "source": [
    "model = AutoModelForSeq2SeqLM.from_pretrained(checkpoint)"
   ]
  },
  {
   "cell_type": "code",
   "execution_count": 15,
   "metadata": {},
   "outputs": [
    {
     "name": "stderr",
     "output_type": "stream",
     "text": [
      "You're using a T5TokenizerFast tokenizer. Please note that with a fast tokenizer, using the `__call__` method is faster than using a method to encode the text followed by a call to the `pad` method to get a padded encoding.\n"
     ]
    },
    {
     "data": {
      "text/html": [
       "\n",
       "    <div>\n",
       "      \n",
       "      <progress value='34206' max='34206' style='width:300px; height:20px; vertical-align: middle;'></progress>\n",
       "      [34206/34206 1:24:39, Epoch 2/2]\n",
       "    </div>\n",
       "    <table border=\"1\" class=\"dataframe\">\n",
       "  <thead>\n",
       " <tr style=\"text-align: left;\">\n",
       "      <th>Epoch</th>\n",
       "      <th>Training Loss</th>\n",
       "      <th>Validation Loss</th>\n",
       "      <th>Bleu</th>\n",
       "      <th>Gen Len</th>\n",
       "    </tr>\n",
       "  </thead>\n",
       "  <tbody>\n",
       "    <tr>\n",
       "      <td>1</td>\n",
       "      <td>1.253200</td>\n",
       "      <td>1.077134</td>\n",
       "      <td>8.023900</td>\n",
       "      <td>18.880200</td>\n",
       "    </tr>\n",
       "    <tr>\n",
       "      <td>2</td>\n",
       "      <td>1.221000</td>\n",
       "      <td>1.052981</td>\n",
       "      <td>8.164700</td>\n",
       "      <td>18.880200</td>\n",
       "    </tr>\n",
       "  </tbody>\n",
       "</table><p>"
      ],
      "text/plain": [
       "<IPython.core.display.HTML object>"
      ]
     },
     "metadata": {},
     "output_type": "display_data"
    },
    {
     "name": "stderr",
     "output_type": "stream",
     "text": [
      "/home/marwan/.local/lib/python3.10/site-packages/transformers/generation/utils.py:1273: UserWarning: Using the model-agnostic default `max_length` (=20) to control the generation length. We recommend setting `max_new_tokens` to control the maximum length of the generation.\n",
      "  warnings.warn(\n",
      "/home/marwan/.local/lib/python3.10/site-packages/transformers/generation/utils.py:1273: UserWarning: Using the model-agnostic default `max_length` (=20) to control the generation length. We recommend setting `max_new_tokens` to control the maximum length of the generation.\n",
      "  warnings.warn(\n"
     ]
    },
    {
     "data": {
      "text/plain": [
       "TrainOutput(global_step=34206, training_loss=1.2737845087556026, metrics={'train_runtime': 5080.3548, 'train_samples_per_second': 107.728, 'train_steps_per_second': 6.733, 'total_flos': 1.117576466792448e+16, 'train_loss': 1.2737845087556026, 'epoch': 2.0})"
      ]
     },
     "execution_count": 15,
     "metadata": {},
     "output_type": "execute_result"
    }
   ],
   "source": [
    "training_args = Seq2SeqTrainingArguments(\n",
    "    output_dir=\"../models/t5_small\",\n",
    "    evaluation_strategy=\"epoch\",\n",
    "    learning_rate=2e-5,\n",
    "    per_device_train_batch_size=16,\n",
    "    per_device_eval_batch_size=16,\n",
    "    weight_decay=0.01,\n",
    "    save_total_limit=3,\n",
    "    num_train_epochs=2,\n",
    "    predict_with_generate=True,\n",
    "    fp16=True,\n",
    "    push_to_hub=False,\n",
    ")\n",
    "\n",
    "trainer = Seq2SeqTrainer(\n",
    "    model=model,\n",
    "    args=training_args,\n",
    "    train_dataset=tokenized_train_data,\n",
    "    eval_dataset=tokenized_test_data,\n",
    "    tokenizer=tokenizer,\n",
    "    data_collator=data_collator,\n",
    "    compute_metrics=compute_metrics,\n",
    ")\n",
    "\n",
    "trainer.train()"
   ]
  },
  {
   "cell_type": "markdown",
   "metadata": {},
   "source": [
    "## Load Saved Model"
   ]
  },
  {
   "cell_type": "code",
   "execution_count": 16,
   "metadata": {},
   "outputs": [],
   "source": [
    "model_path = \"my_awesome_opus_books_model/checkpoint-33000\"\n",
    "model = AutoModelForSeq2SeqLM.from_pretrained(model_path)\n",
    "tokenizer = AutoTokenizer.from_pretrained(model_path)"
   ]
  },
  {
   "cell_type": "code",
   "execution_count": null,
   "metadata": {},
   "outputs": [],
   "source": [
    "# text_to_translate = \"translate English to French: \" + test_data[2]['translation']['en']\n",
    "text_to_translate = \"translate English to French: \" + \"The big, red apple fell from the tree and rolled down the hill, making a funny sound as it went. Kids nearby giggled and raced to catch it. The sun shone brightly, warming everyone's faces, while birds chirped happily in the background. The big, red apple fell from the tree and rolled down the hill, making a funny sound as it went. Kids nearby giggled and raced to catch it. The sun shone brightly, warming everyone's faces, while birds chirped happily in the background.\"\n",
    "\n",
    "inputs = tokenizer(text_to_translate, return_tensors=\"pt\")\n",
    "outputs = model.generate(**inputs, max_length=40, num_beams=4, length_penalty=2.0, no_repeat_ngram_size=2, top_k=50, top_p=0.95)\n",
    "\n",
    "generated_text = tokenizer.decode(outputs[0], skip_special_tokens=True)"
   ]
  },
  {
   "cell_type": "code",
   "execution_count": 61,
   "metadata": {},
   "outputs": [
    {
     "name": "stdout",
     "output_type": "stream",
     "text": [
      "Original: The big, red apple fell from the tree and rolled down the hill, making a funny sound as it went. Kids nearby giggled and raced to catch it. The sun shone brightly, warming everyone's faces, while birds chirped happily in the background. The big, red apple fell from the tree and rolled down the hill, making a funny sound as it went. Kids nearby giggled and raced to catch it. The sun shone brightly, warming everyone's faces, while birds chirped happily in the background.\n",
      "Translation: La grosse pomme rouge est tombee de l'arbre et est descendue sur la colline pour faire un son amusant comme elle s'est \n",
      "22\n",
      ">La grosse pomme rouge est tombee de l'arbre et est descendue sur la colline pour faire un son amusant comme elle s'est <\n"
     ]
    }
   ],
   "source": [
    "print(\"Original:\", text_to_translate.replace(\"translate English to French: \", \"\"))\n",
    "print(\"Translation:\", generated_text)"
   ]
  },
  {
   "cell_type": "code",
   "execution_count": 19,
   "metadata": {},
   "outputs": [
    {
     "data": {
      "text/html": [],
      "text/plain": [
       "<IPython.core.display.HTML object>"
      ]
     },
     "metadata": {},
     "output_type": "display_data"
    },
    {
     "name": "stdout",
     "output_type": "stream",
     "text": [
      "BLEU Score on Test Set: 8.1647\n"
     ]
    }
   ],
   "source": [
    "# Generate predictions on the test set\n",
    "predictions = trainer.predict(tokenized_test_data)\n",
    "\n",
    "# Compute BLEU score on the test set\n",
    "bleu_score = compute_metrics((predictions.predictions, predictions.label_ids))[\"bleu\"]\n",
    "\n",
    "print(f\"BLEU Score on Test Set: {bleu_score}\")"
   ]
  },
  {
   "cell_type": "code",
   "execution_count": 20,
   "metadata": {},
   "outputs": [
    {
     "name": "stderr",
     "output_type": "stream",
     "text": [
      "Map: 100%|██████████| 68412/68412 [00:04<00:00, 14891.82 examples/s]\n",
      "Filter: 100%|██████████| 68412/68412 [00:03<00:00, 21624.53 examples/s]\n",
      "Filter: 100%|██████████| 68412/68412 [00:02<00:00, 23695.54 examples/s]\n",
      "Filter: 100%|██████████| 68412/68412 [00:02<00:00, 23789.89 examples/s]\n",
      "Filter: 100%|██████████| 68412/68412 [00:02<00:00, 23636.95 examples/s]\n",
      "Filter: 100%|██████████| 68412/68412 [00:02<00:00, 23678.50 examples/s]\n",
      "Filter: 100%|██████████| 68412/68412 [00:03<00:00, 21951.44 examples/s]\n",
      "Filter: 100%|██████████| 68412/68412 [00:02<00:00, 23716.03 examples/s]\n",
      "Filter: 100%|██████████| 68412/68412 [00:02<00:00, 23851.33 examples/s]"
     ]
    },
    {
     "name": "stdout",
     "output_type": "stream",
     "text": [
      "dataset_1_5: 1119 samples\n",
      "dataset_6_10: 11477 samples\n",
      "dataset_11_15: 13118 samples\n",
      "dataset_16_20: 12237 samples\n",
      "dataset_21_30: 17409 samples\n",
      "dataset_31_40: 8221 samples\n",
      "dataset_41_60: 4159 samples\n",
      "dataset_61_inf: 672 samples\n"
     ]
    },
    {
     "name": "stderr",
     "output_type": "stream",
     "text": [
      "\n"
     ]
    }
   ],
   "source": [
    "# Assuming you have tokenized_test_data as a Dataset\n",
    "tokenized_test_data = tokenized_test_data.map(lambda example: {'length': len(example['translation']['en'].split())})\n",
    "\n",
    "# Define length ranges for splitting\n",
    "length_ranges = [(1, 5), (6, 10), (11, 15), (16, 20), (21, 30), (31, 40), (41, 60), (61, float('inf'))]\n",
    "\n",
    "# Create smaller datasets based on length ranges\n",
    "small_datasets = {}\n",
    "for min_len, max_len in length_ranges:\n",
    "    filtered_examples = tokenized_test_data.filter(lambda example: min_len <= example['length'] <= max_len)\n",
    "    small_datasets[f'dataset_{min_len}_{max_len}'] = filtered_examples\n",
    "\n",
    "# Access the smaller datasets\n",
    "samples_per_range = []\n",
    "for key, dataset in small_datasets.items():\n",
    "    samples_per_range.append(len(dataset))\n",
    "    print(f\"{key}: {len(dataset)} samples\")"
   ]
  },
  {
   "cell_type": "code",
   "execution_count": null,
   "metadata": {},
   "outputs": [],
   "source": [
    "bleu_scores = []\n",
    "for key, _ in small_datasets.items():\n",
    "    predictions = trainer.predict(small_datasets[key])\n",
    "    bleu_scores.append(compute_metrics((predictions.predictions, predictions.label_ids))[\"bleu\"])\n",
    "    \n",
    "for i in range(len(length_ranges)):\n",
    "    print(f\"BLEU Score for length range {length_ranges[i]}: {bleu_scores[i]}\")"
   ]
  },
  {
   "cell_type": "code",
   "execution_count": null,
   "metadata": {},
   "outputs": [],
   "source": [
    "import matplotlib.pyplot as plt\n",
    "import matplotlib.patches as mpatches\n",
    "\n",
    "plt.figure(figsize=(15, 7))\n",
    "\n",
    "colors = ['b', 'g', 'r', 'c', 'm', 'y', 'k']  # List of colors for each bar\n",
    "bar_plot = plt.bar([f'{start}-{end}' for start, end in length_ranges], bleu_scores, color=colors, alpha=0.7, label='BLEU Score')\n",
    "\n",
    "# Add \"All\" bar with legend\n",
    "all_bar = plt.bar(\"All\", bleu_score, color='k', alpha=0.7)\n",
    "\n",
    "# Create a dummy handle for the \"All\" bar\n",
    "all_patch = mpatches.Patch(color='k', label=f'Sample = {tokenized_test_data.num_rows}')\n",
    "\n",
    "# Add legend for samples per range with corresponding colors\n",
    "legend_labels = [f'Sample = {value}' for value in samples_per_range]\n",
    "\n",
    "# Include the dummy handle in the legend\n",
    "plt.legend(handles=[*bar_plot, all_patch], labels=legend_labels + [f'Sample = {tokenized_test_data.num_rows}'], loc='upper right', title='Samples per range')\n",
    "\n",
    "plt.xlabel('Word Count Range')\n",
    "plt.ylabel('BLEU Score')\n",
    "\n",
    "plt.title('BLEU Score and Number of Samples Based on Word Count Range')\n",
    "\n",
    "plt.show()\n"
   ]
  },
  {
   "cell_type": "code",
   "execution_count": 34,
   "metadata": {},
   "outputs": [],
   "source": [
    "from nltk.translate.bleu_score import corpus_bleu\n",
    "\n",
    "def compute_corpus_bleu(eval_preds):\n",
    "    preds, labels = eval_preds\n",
    "    if isinstance(preds, tuple):\n",
    "        preds = preds[0]\n",
    "    decoded_preds = tokenizer.batch_decode(preds, skip_special_tokens=True)\n",
    "\n",
    "    labels = np.where(labels != -100, labels, tokenizer.pad_token_id)\n",
    "    decoded_labels = tokenizer.batch_decode(labels, skip_special_tokens=True)\n",
    "\n",
    "    decoded_preds, decoded_labels = postprocess_text(decoded_preds, decoded_labels)\n",
    "    return corpus_bleu(decoded_labels, decoded_preds)"
   ]
  },
  {
   "cell_type": "code",
   "execution_count": 36,
   "metadata": {},
   "outputs": [
    {
     "data": {
      "text/html": [],
      "text/plain": [
       "<IPython.core.display.HTML object>"
      ]
     },
     "metadata": {},
     "output_type": "display_data"
    },
    {
     "name": "stdout",
     "output_type": "stream",
     "text": [
      "dataset_1_5: 0.7486\n"
     ]
    },
    {
     "data": {
      "text/html": [],
      "text/plain": [
       "<IPython.core.display.HTML object>"
      ]
     },
     "metadata": {},
     "output_type": "display_data"
    },
    {
     "name": "stdout",
     "output_type": "stream",
     "text": [
      "dataset_6_10: 0.6072\n"
     ]
    },
    {
     "data": {
      "text/html": [],
      "text/plain": [
       "<IPython.core.display.HTML object>"
      ]
     },
     "metadata": {},
     "output_type": "display_data"
    },
    {
     "name": "stdout",
     "output_type": "stream",
     "text": [
      "dataset_11_15: 0.3938\n"
     ]
    },
    {
     "data": {
      "text/html": [],
      "text/plain": [
       "<IPython.core.display.HTML object>"
      ]
     },
     "metadata": {},
     "output_type": "display_data"
    },
    {
     "name": "stdout",
     "output_type": "stream",
     "text": [
      "dataset_16_20: 0.2228\n"
     ]
    },
    {
     "data": {
      "text/html": [],
      "text/plain": [
       "<IPython.core.display.HTML object>"
      ]
     },
     "metadata": {},
     "output_type": "display_data"
    },
    {
     "name": "stdout",
     "output_type": "stream",
     "text": [
      "dataset_21_30: 0.0967\n"
     ]
    },
    {
     "data": {
      "text/html": [],
      "text/plain": [
       "<IPython.core.display.HTML object>"
      ]
     },
     "metadata": {},
     "output_type": "display_data"
    },
    {
     "name": "stdout",
     "output_type": "stream",
     "text": [
      "dataset_31_40: 0.0309\n"
     ]
    },
    {
     "data": {
      "text/html": [],
      "text/plain": [
       "<IPython.core.display.HTML object>"
      ]
     },
     "metadata": {},
     "output_type": "display_data"
    },
    {
     "name": "stdout",
     "output_type": "stream",
     "text": [
      "dataset_41_60: 0.0078\n"
     ]
    },
    {
     "data": {
      "text/html": [],
      "text/plain": [
       "<IPython.core.display.HTML object>"
      ]
     },
     "metadata": {},
     "output_type": "display_data"
    },
    {
     "name": "stdout",
     "output_type": "stream",
     "text": [
      "dataset_61_inf: 0.0016\n"
     ]
    }
   ],
   "source": [
    "bleu_scores = []\n",
    "for key, _ in small_datasets.items():\n",
    "    predictions = trainer.predict(small_datasets[key])\n",
    "    score = compute_corpus_bleu((predictions.predictions, predictions.label_ids))\n",
    "    bleu_scores.append(score)\n",
    "    \n",
    "    print(f\"{key}: {score:.4f}\")"
   ]
  },
  {
   "cell_type": "code",
   "execution_count": null,
   "metadata": {},
   "outputs": [],
   "source": [
    "predictions = trainer.predict(tokenized_test_data)\n"
   ]
  },
  {
   "cell_type": "code",
   "execution_count": 43,
   "metadata": {},
   "outputs": [],
   "source": [
    "bleu_score = compute_corpus_bleu((predictions.predictions, predictions.label_ids))"
   ]
  },
  {
   "cell_type": "code",
   "execution_count": 44,
   "metadata": {},
   "outputs": [
    {
     "name": "stdout",
     "output_type": "stream",
     "text": [
      "BLEU Score on Test Set: 0.140494738529795\n"
     ]
    }
   ],
   "source": [
    "print(f\"BLEU Score on Test Set: {bleu_score}\")"
   ]
  },
  {
   "cell_type": "code",
   "execution_count": 45,
   "metadata": {},
   "outputs": [
    {
     "data": {
      "image/png": "[encoded data removed]",
      "text/plain": [
       "<Figure size 1500x700 with 1 Axes>"
      ]
     },
     "metadata": {},
     "output_type": "display_data"
    }
   ],
   "source": [
    "import matplotlib.pyplot as plt\n",
    "import matplotlib.patches as mpatches\n",
    "\n",
    "plt.figure(figsize=(15, 7))\n",
    "\n",
    "colors = ['b', 'g', 'r', 'c', 'm', 'y', 'k']  # List of colors for each bar\n",
    "bar_plot = plt.bar([f'{start}-{end}' for start, end in length_ranges], bleu_scores, color=colors, alpha=0.7, label='BLEU Score')\n",
    "\n",
    "# Add \"All\" bar with legend\n",
    "all_bar = plt.bar(\"All\", bleu_score, color='k', alpha=0.7)\n",
    "\n",
    "# Create a dummy handle for the \"All\" bar\n",
    "all_patch = mpatches.Patch(color='k', label=f'Sample = {tokenized_test_data.num_rows}')\n",
    "\n",
    "# Add legend for samples per range with corresponding colors\n",
    "legend_labels = [f'Sample = {value}' for value in samples_per_range]\n",
    "\n",
    "# Include the dummy handle in the legend\n",
    "plt.legend(handles=[*bar_plot, all_patch], labels=legend_labels + [f'Sample = {tokenized_test_data.num_rows}'], loc='upper right', title='Samples per range')\n",
    "\n",
    "plt.xlabel('Word Count Range')\n",
    "plt.ylabel('BLEU Score')\n",
    "\n",
    "plt.title('BLEU Score and Number of Samples Based on Word Count Range')\n",
    "\n",
    "plt.show()\n"
   ]
  }
 ],
 "metadata": {
  "kernelspec": {
   "display_name": "Python 3",
   "language": "python",
   "name": "python3"
  },
  "language_info": {
   "codemirror_mode": {
    "name": "ipython",
    "version": 3
   },
   "file_extension": ".py",
   "mimetype": "text/x-python",
   "name": "python",
   "nbconvert_exporter": "python",
   "pygments_lexer": "ipython3",
   "version": "3.10.12"
  }
 },
 "nbformat": 4,
 "nbformat_minor": 2
}
